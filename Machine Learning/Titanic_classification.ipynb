{
  "cells": [
    {
      "cell_type": "markdown",
      "metadata": {
        "id": "aj6mOEoTsCJX"
      },
      "source": [
        "\n",
        "\n",
        "The objective of this project is to build a k-Nearest Neighbour algorithm that takes as input training and test dataset and will predict the target binary variable with a reasonable degree of accuracy.\n",
        "\n",
        "This project focuses on the Titanic dataset that we used during the lectures. You can find the dataset at:\n",
        "\n",
        "https://github.com/andvise/DataAnalyticsDatasets/blob/main/titanic.csv\n",
        "\n",
        "\n",
        "# Tasks:\n",
        "\n"
      ]
    },
    {
      "cell_type": "markdown",
      "metadata": {
        "id": "3jkbPvQyvLHl"
      },
      "source": [
        "# Data Preparation (5 marks)\n",
        "\n",
        "\n",
        "\n",
        "1.  Load the dataset on Colab\n"
      ]
    },
    {
      "cell_type": "code",
      "execution_count": null,
      "metadata": {
        "colab": {
          "base_uri": "https://localhost:8080/",
          "height": 424
        },
        "id": "_0CEdmKwuYdw",
        "outputId": "f17f5c55-1b7c-4723-d9ea-a45baa386fb0"
      },
      "outputs": [
        {
          "data": {
            "text/html": [
              "<div>\n",
              "<style scoped>\n",
              "    .dataframe tbody tr th:only-of-type {\n",
              "        vertical-align: middle;\n",
              "    }\n",
              "\n",
              "    .dataframe tbody tr th {\n",
              "        vertical-align: top;\n",
              "    }\n",
              "\n",
              "    .dataframe thead th {\n",
              "        text-align: right;\n",
              "    }\n",
              "</style>\n",
              "<table border=\"1\" class=\"dataframe\">\n",
              "  <thead>\n",
              "    <tr style=\"text-align: right;\">\n",
              "      <th></th>\n",
              "      <th>PassengerId</th>\n",
              "      <th>Survived</th>\n",
              "      <th>Pclass</th>\n",
              "      <th>Name</th>\n",
              "      <th>Sex</th>\n",
              "      <th>Age</th>\n",
              "      <th>Siblings/Spouses Aboard</th>\n",
              "      <th>Parents/Children Aboard</th>\n",
              "      <th>Fare</th>\n",
              "    </tr>\n",
              "  </thead>\n",
              "  <tbody>\n",
              "    <tr>\n",
              "      <th>0</th>\n",
              "      <td>1</td>\n",
              "      <td>0</td>\n",
              "      <td>3</td>\n",
              "      <td>Mr. Owen Harris Braund</td>\n",
              "      <td>male</td>\n",
              "      <td>22.0</td>\n",
              "      <td>1</td>\n",
              "      <td>0.0</td>\n",
              "      <td>7.2500</td>\n",
              "    </tr>\n",
              "    <tr>\n",
              "      <th>1</th>\n",
              "      <td>2</td>\n",
              "      <td>1</td>\n",
              "      <td>1</td>\n",
              "      <td>Mrs. John Bradley (Florence Briggs Thayer) Cum...</td>\n",
              "      <td>female</td>\n",
              "      <td>38.0</td>\n",
              "      <td>1</td>\n",
              "      <td>0.0</td>\n",
              "      <td>71.2833</td>\n",
              "    </tr>\n",
              "    <tr>\n",
              "      <th>2</th>\n",
              "      <td>3</td>\n",
              "      <td>1</td>\n",
              "      <td>3</td>\n",
              "      <td>Miss. Laina Heikkinen</td>\n",
              "      <td>female</td>\n",
              "      <td>26.0</td>\n",
              "      <td>0</td>\n",
              "      <td>0.0</td>\n",
              "      <td>7.9250</td>\n",
              "    </tr>\n",
              "    <tr>\n",
              "      <th>3</th>\n",
              "      <td>4</td>\n",
              "      <td>1</td>\n",
              "      <td>1</td>\n",
              "      <td>Mrs. Jacques Heath (Lily May Peel) Futrelle</td>\n",
              "      <td>female</td>\n",
              "      <td>35.0</td>\n",
              "      <td>1</td>\n",
              "      <td>NaN</td>\n",
              "      <td>53.1000</td>\n",
              "    </tr>\n",
              "    <tr>\n",
              "      <th>4</th>\n",
              "      <td>5</td>\n",
              "      <td>0</td>\n",
              "      <td>3</td>\n",
              "      <td>Mr. William Henry Allen</td>\n",
              "      <td>male</td>\n",
              "      <td>35.0</td>\n",
              "      <td>0</td>\n",
              "      <td>0.0</td>\n",
              "      <td>8.0500</td>\n",
              "    </tr>\n",
              "    <tr>\n",
              "      <th>...</th>\n",
              "      <td>...</td>\n",
              "      <td>...</td>\n",
              "      <td>...</td>\n",
              "      <td>...</td>\n",
              "      <td>...</td>\n",
              "      <td>...</td>\n",
              "      <td>...</td>\n",
              "      <td>...</td>\n",
              "      <td>...</td>\n",
              "    </tr>\n",
              "    <tr>\n",
              "      <th>882</th>\n",
              "      <td>883</td>\n",
              "      <td>0</td>\n",
              "      <td>2</td>\n",
              "      <td>Rev. Juozas Montvila</td>\n",
              "      <td>male</td>\n",
              "      <td>27.0</td>\n",
              "      <td>0</td>\n",
              "      <td>0.0</td>\n",
              "      <td>13.0000</td>\n",
              "    </tr>\n",
              "    <tr>\n",
              "      <th>883</th>\n",
              "      <td>884</td>\n",
              "      <td>1</td>\n",
              "      <td>1</td>\n",
              "      <td>Miss. Margaret Edith Graham</td>\n",
              "      <td>female</td>\n",
              "      <td>19.0</td>\n",
              "      <td>0</td>\n",
              "      <td>0.0</td>\n",
              "      <td>30.0000</td>\n",
              "    </tr>\n",
              "    <tr>\n",
              "      <th>884</th>\n",
              "      <td>885</td>\n",
              "      <td>0</td>\n",
              "      <td>3</td>\n",
              "      <td>Miss. Catherine Helen Johnston</td>\n",
              "      <td>female</td>\n",
              "      <td>7.0</td>\n",
              "      <td>1</td>\n",
              "      <td>2.0</td>\n",
              "      <td>23.4500</td>\n",
              "    </tr>\n",
              "    <tr>\n",
              "      <th>885</th>\n",
              "      <td>886</td>\n",
              "      <td>1</td>\n",
              "      <td>1</td>\n",
              "      <td>Mr. Karl Howell Behr</td>\n",
              "      <td>male</td>\n",
              "      <td>26.0</td>\n",
              "      <td>0</td>\n",
              "      <td>0.0</td>\n",
              "      <td>30.0000</td>\n",
              "    </tr>\n",
              "    <tr>\n",
              "      <th>886</th>\n",
              "      <td>887</td>\n",
              "      <td>0</td>\n",
              "      <td>3</td>\n",
              "      <td>Mr. Patrick Dooley</td>\n",
              "      <td>male</td>\n",
              "      <td>32.0</td>\n",
              "      <td>0</td>\n",
              "      <td>0.0</td>\n",
              "      <td>7.7500</td>\n",
              "    </tr>\n",
              "  </tbody>\n",
              "</table>\n",
              "<p>887 rows × 9 columns</p>\n",
              "</div>"
            ],
            "text/plain": [
              "     PassengerId  Survived  Pclass  \\\n",
              "0              1         0       3   \n",
              "1              2         1       1   \n",
              "2              3         1       3   \n",
              "3              4         1       1   \n",
              "4              5         0       3   \n",
              "..           ...       ...     ...   \n",
              "882          883         0       2   \n",
              "883          884         1       1   \n",
              "884          885         0       3   \n",
              "885          886         1       1   \n",
              "886          887         0       3   \n",
              "\n",
              "                                                  Name     Sex   Age  \\\n",
              "0                               Mr. Owen Harris Braund    male  22.0   \n",
              "1    Mrs. John Bradley (Florence Briggs Thayer) Cum...  female  38.0   \n",
              "2                                Miss. Laina Heikkinen  female  26.0   \n",
              "3          Mrs. Jacques Heath (Lily May Peel) Futrelle  female  35.0   \n",
              "4                              Mr. William Henry Allen    male  35.0   \n",
              "..                                                 ...     ...   ...   \n",
              "882                               Rev. Juozas Montvila    male  27.0   \n",
              "883                        Miss. Margaret Edith Graham  female  19.0   \n",
              "884                     Miss. Catherine Helen Johnston  female   7.0   \n",
              "885                               Mr. Karl Howell Behr    male  26.0   \n",
              "886                                 Mr. Patrick Dooley    male  32.0   \n",
              "\n",
              "     Siblings/Spouses Aboard  Parents/Children Aboard     Fare  \n",
              "0                          1                      0.0   7.2500  \n",
              "1                          1                      0.0  71.2833  \n",
              "2                          0                      0.0   7.9250  \n",
              "3                          1                      NaN  53.1000  \n",
              "4                          0                      0.0   8.0500  \n",
              "..                       ...                      ...      ...  \n",
              "882                        0                      0.0  13.0000  \n",
              "883                        0                      0.0  30.0000  \n",
              "884                        1                      2.0  23.4500  \n",
              "885                        0                      0.0  30.0000  \n",
              "886                        0                      0.0   7.7500  \n",
              "\n",
              "[887 rows x 9 columns]"
            ]
          },
          "execution_count": 22,
          "metadata": {},
          "output_type": "execute_result"
        }
      ],
      "source": [
        "# YOUR CODE HERE\n",
        "import pandas as pd\n",
        "import numpy as np\n",
        "\n",
        "df = pd.read_csv(\"https://github.com/andvise/DataAnalyticsDatasets/blob/dc74027bd063510ede437e4d612f41eb078e49b9/titanic.csv?raw=true\")\n",
        "df"
      ]
    },
    {
      "cell_type": "markdown",
      "metadata": {
        "id": "v4AfYHzAudy2"
      },
      "source": [
        "\n",
        "\n",
        "2. Display the attributes' name and their data type\n",
        "\n",
        "\n"
      ]
    },
    {
      "cell_type": "code",
      "execution_count": null,
      "metadata": {
        "colab": {
          "base_uri": "https://localhost:8080/"
        },
        "id": "hfi7ERXDu6h2",
        "outputId": "c868244d-49ed-4914-f456-e5dc0b96939e"
      },
      "outputs": [
        {
          "data": {
            "text/plain": [
              "PassengerId                  int64\n",
              "Survived                     int64\n",
              "Pclass                       int64\n",
              "Name                        object\n",
              "Sex                         object\n",
              "Age                        float64\n",
              "Siblings/Spouses Aboard      int64\n",
              "Parents/Children Aboard    float64\n",
              "Fare                       float64\n",
              "dtype: object"
            ]
          },
          "execution_count": 23,
          "metadata": {},
          "output_type": "execute_result"
        }
      ],
      "source": [
        "# YOUR CODE HERE\n",
        "df.dtypes"
      ]
    },
    {
      "cell_type": "markdown",
      "metadata": {
        "id": "SAX0YZxyutsm"
      },
      "source": [
        "3. Delete the columns that should not be included in a k-NN technique. Explain why you removed them in 1-2 sentences.\n",
        "\n",
        "\n"
      ]
    },
    {
      "cell_type": "code",
      "execution_count": null,
      "metadata": {
        "colab": {
          "base_uri": "https://localhost:8080/"
        },
        "id": "_no2t3bEu7MY",
        "outputId": "4c42a2d0-f74d-416d-82f2-9fe1df6d3968"
      },
      "outputs": [
        {
          "data": {
            "text/plain": [
              "Survived                     int64\n",
              "Pclass                       int64\n",
              "Sex                         object\n",
              "Age                        float64\n",
              "Siblings/Spouses Aboard      int64\n",
              "Parents/Children Aboard    float64\n",
              "Fare                       float64\n",
              "dtype: object"
            ]
          },
          "execution_count": 24,
          "metadata": {},
          "output_type": "execute_result"
        }
      ],
      "source": [
        "# YOUR CODE HERE\n",
        "df_new = df[[\"Survived\", \"Pclass\", \"Sex\", \"Age\", \"Siblings/Spouses Aboard\", \"Parents/Children Aboard\", \"Fare\"]]\n",
        "df_new.dtypes\n",
        "# I removed PassengerId and Name as the distances cannot be calculated for each of these columns therefore should not be used in k-NN model. EXPLAIN WHY LATER"
      ]
    },
    {
      "cell_type": "markdown",
      "metadata": {
        "id": "BAHTyJF8uys4"
      },
      "source": [
        "4. Replace all missing values with 0\n"
      ]
    },
    {
      "cell_type": "code",
      "execution_count": null,
      "metadata": {
        "id": "FVo2V5jpu8td"
      },
      "outputs": [],
      "source": [
        "# YOUR CODE HERE\n",
        "df_na = df_new.fillna(0)"
      ]
    },
    {
      "cell_type": "markdown",
      "metadata": {
        "id": "lnCvSz_xIu4r"
      },
      "source": [
        "5. Transform the Sex column into a numerical one"
      ]
    },
    {
      "cell_type": "code",
      "execution_count": null,
      "metadata": {
        "id": "kzkD32_8Iuih"
      },
      "outputs": [],
      "source": [
        "# YOUR CODE HERE\n",
        "df_na['Sex'].replace(['male', 'female'], [0, 1], inplace=True)"
      ]
    },
    {
      "cell_type": "markdown",
      "metadata": {
        "id": "4vTfRa7_I0nr"
      },
      "source": [
        "6. Use **Survived** as the target label and the rest of the data frame as features"
      ]
    },
    {
      "cell_type": "code",
      "execution_count": null,
      "metadata": {
        "id": "s1ru4us7I1Dg"
      },
      "outputs": [],
      "source": [
        "# YOUR CODE HERE\n",
        "df_shuffle = df_na.sample(frac = 1, random_state = 45) # randomly shuffles the dataset\n",
        "feat = df_shuffle[[\"Pclass\", \"Sex\", \"Age\", \"Siblings/Spouses Aboard\", \"Parents/Children Aboard\", \"Fare\"]]\n",
        "labels = df_shuffle[[\"Survived\"]]"
      ]
    },
    {
      "cell_type": "markdown",
      "metadata": {
        "id": "shSjCurZu0V6"
      },
      "source": [
        "5. Divide your dataset into 80% for training and 20% for test\n"
      ]
    },
    {
      "cell_type": "code",
      "execution_count": null,
      "metadata": {
        "id": "lGRWLJkKu9fo",
        "outputId": "d7d5b987-68b7-4a6d-b855-032c5d1d5355"
      },
      "outputs": [
        {
          "data": {
            "text/html": [
              "<div>\n",
              "<style scoped>\n",
              "    .dataframe tbody tr th:only-of-type {\n",
              "        vertical-align: middle;\n",
              "    }\n",
              "\n",
              "    .dataframe tbody tr th {\n",
              "        vertical-align: top;\n",
              "    }\n",
              "\n",
              "    .dataframe thead th {\n",
              "        text-align: right;\n",
              "    }\n",
              "</style>\n",
              "<table border=\"1\" class=\"dataframe\">\n",
              "  <thead>\n",
              "    <tr style=\"text-align: right;\">\n",
              "      <th></th>\n",
              "      <th>Pclass</th>\n",
              "      <th>Sex</th>\n",
              "      <th>Age</th>\n",
              "      <th>Siblings/Spouses Aboard</th>\n",
              "      <th>Parents/Children Aboard</th>\n",
              "      <th>Fare</th>\n",
              "    </tr>\n",
              "  </thead>\n",
              "  <tbody>\n",
              "    <tr>\n",
              "      <th>0</th>\n",
              "      <td>2</td>\n",
              "      <td>1</td>\n",
              "      <td>45.0</td>\n",
              "      <td>1</td>\n",
              "      <td>1.0</td>\n",
              "      <td>26.2500</td>\n",
              "    </tr>\n",
              "    <tr>\n",
              "      <th>1</th>\n",
              "      <td>3</td>\n",
              "      <td>1</td>\n",
              "      <td>17.0</td>\n",
              "      <td>4</td>\n",
              "      <td>2.0</td>\n",
              "      <td>7.9250</td>\n",
              "    </tr>\n",
              "    <tr>\n",
              "      <th>2</th>\n",
              "      <td>3</td>\n",
              "      <td>0</td>\n",
              "      <td>44.0</td>\n",
              "      <td>0</td>\n",
              "      <td>0.0</td>\n",
              "      <td>8.0500</td>\n",
              "    </tr>\n",
              "    <tr>\n",
              "      <th>3</th>\n",
              "      <td>2</td>\n",
              "      <td>0</td>\n",
              "      <td>19.0</td>\n",
              "      <td>0</td>\n",
              "      <td>0.0</td>\n",
              "      <td>10.5000</td>\n",
              "    </tr>\n",
              "    <tr>\n",
              "      <th>4</th>\n",
              "      <td>3</td>\n",
              "      <td>0</td>\n",
              "      <td>43.0</td>\n",
              "      <td>0</td>\n",
              "      <td>0.0</td>\n",
              "      <td>8.0500</td>\n",
              "    </tr>\n",
              "    <tr>\n",
              "      <th>...</th>\n",
              "      <td>...</td>\n",
              "      <td>...</td>\n",
              "      <td>...</td>\n",
              "      <td>...</td>\n",
              "      <td>...</td>\n",
              "      <td>...</td>\n",
              "    </tr>\n",
              "    <tr>\n",
              "      <th>704</th>\n",
              "      <td>2</td>\n",
              "      <td>1</td>\n",
              "      <td>24.0</td>\n",
              "      <td>1</td>\n",
              "      <td>0.0</td>\n",
              "      <td>26.0000</td>\n",
              "    </tr>\n",
              "    <tr>\n",
              "      <th>705</th>\n",
              "      <td>3</td>\n",
              "      <td>0</td>\n",
              "      <td>23.0</td>\n",
              "      <td>0</td>\n",
              "      <td>0.0</td>\n",
              "      <td>7.8958</td>\n",
              "    </tr>\n",
              "    <tr>\n",
              "      <th>706</th>\n",
              "      <td>2</td>\n",
              "      <td>1</td>\n",
              "      <td>28.0</td>\n",
              "      <td>0</td>\n",
              "      <td>0.0</td>\n",
              "      <td>13.0000</td>\n",
              "    </tr>\n",
              "    <tr>\n",
              "      <th>707</th>\n",
              "      <td>3</td>\n",
              "      <td>1</td>\n",
              "      <td>30.0</td>\n",
              "      <td>0</td>\n",
              "      <td>0.0</td>\n",
              "      <td>12.4750</td>\n",
              "    </tr>\n",
              "    <tr>\n",
              "      <th>708</th>\n",
              "      <td>2</td>\n",
              "      <td>0</td>\n",
              "      <td>33.0</td>\n",
              "      <td>0</td>\n",
              "      <td>0.0</td>\n",
              "      <td>12.2750</td>\n",
              "    </tr>\n",
              "  </tbody>\n",
              "</table>\n",
              "<p>709 rows × 6 columns</p>\n",
              "</div>"
            ],
            "text/plain": [
              "     Pclass  Sex   Age  Siblings/Spouses Aboard  Parents/Children Aboard  \\\n",
              "0         2    1  45.0                        1                      1.0   \n",
              "1         3    1  17.0                        4                      2.0   \n",
              "2         3    0  44.0                        0                      0.0   \n",
              "3         2    0  19.0                        0                      0.0   \n",
              "4         3    0  43.0                        0                      0.0   \n",
              "..      ...  ...   ...                      ...                      ...   \n",
              "704       2    1  24.0                        1                      0.0   \n",
              "705       3    0  23.0                        0                      0.0   \n",
              "706       2    1  28.0                        0                      0.0   \n",
              "707       3    1  30.0                        0                      0.0   \n",
              "708       2    0  33.0                        0                      0.0   \n",
              "\n",
              "        Fare  \n",
              "0    26.2500  \n",
              "1     7.9250  \n",
              "2     8.0500  \n",
              "3    10.5000  \n",
              "4     8.0500  \n",
              "..       ...  \n",
              "704  26.0000  \n",
              "705   7.8958  \n",
              "706  13.0000  \n",
              "707  12.4750  \n",
              "708  12.2750  \n",
              "\n",
              "[709 rows x 6 columns]"
            ]
          },
          "execution_count": 28,
          "metadata": {},
          "output_type": "execute_result"
        }
      ],
      "source": [
        "# YOUR CODE HERE\n",
        "\n",
        "# gets the length of the dataset, multiplies by 0.8 to get 80% of the dataset, converts to integer round to whole number and subsets the dataset to 80% and 20% respectively\n",
        "\n",
        "train_feat = feat[:int(0.8 * len(feat))]\n",
        "test_feat = feat[int(0.8 * len(feat)):]\n",
        "train_labels = labels[:int(0.8 * len(labels))]\n",
        "test_labels = labels[int(0.8 * len(labels)):]\n",
        "\n",
        "# Resetting indices for test_feat and test_labels\n",
        "train_feat.reset_index(drop=True, inplace=True)\n",
        "train_labels.reset_index(drop=True, inplace=True)\n",
        "test_feat.reset_index(drop=True, inplace=True)\n",
        "test_labels.reset_index(drop=True, inplace=True)\n",
        "\n",
        "\n",
        "train_feat"
      ]
    },
    {
      "cell_type": "markdown",
      "metadata": {
        "id": "jMkhqPtzu1n3"
      },
      "source": [
        "6. Scale the columns using min-max scalers\n"
      ]
    },
    {
      "cell_type": "code",
      "execution_count": null,
      "metadata": {
        "id": "rIea27nSu-FK"
      },
      "outputs": [],
      "source": [
        "# YOUR CODE HERE\n",
        "train_feat = (train_feat -train_feat.min()) / train_feat.max()\n",
        "test_feat = (test_feat - test_feat.min()) / test_feat.max()"
      ]
    },
    {
      "cell_type": "markdown",
      "metadata": {
        "id": "x8Beg7r2u24u"
      },
      "source": [
        "7. Print the shape of the train and test set  "
      ]
    },
    {
      "cell_type": "code",
      "execution_count": null,
      "metadata": {
        "colab": {
          "base_uri": "https://localhost:8080/"
        },
        "id": "GRmj29wdu_NR",
        "outputId": "dd687dfb-9ac0-4a7d-8ca9-f0092e12b629"
      },
      "outputs": [
        {
          "name": "stdout",
          "output_type": "stream",
          "text": [
            "(709, 6)\n",
            "(178, 6)\n",
            "(709, 1)\n",
            "(178, 1)\n"
          ]
        }
      ],
      "source": [
        "# YOUR CODE HERE\n",
        "print(train_feat.shape)\n",
        "print(test_feat.shape)\n",
        "print(train_labels.shape)\n",
        "print(test_labels.shape)"
      ]
    },
    {
      "cell_type": "markdown",
      "metadata": {
        "id": "b1f455v-vzXd"
      },
      "source": [
        "# NN implementation (10 Marks)\n",
        "\n",
        "1. Implement your NN method. To predict **each** point (query point) of the test set, you need to:\n",
        "\n",
        "\n",
        "> a. Find the training point with the smallest **Euclidian** distance  with the query point\n",
        "\n",
        "\n",
        "  \n",
        "> b. Use as a prediction the target value of the point with the smallest distance\n",
        "to the query point"
      ]
    },
    {
      "cell_type": "markdown",
      "metadata": {
        "id": "rWGWMI10wXJ5"
      },
      "source": [
        "2. Compute the mean absolute error (MAE) between the test labels and the predicted\n",
        "values"
      ]
    },
    {
      "cell_type": "code",
      "execution_count": null,
      "metadata": {
        "id": "CXtkqLwQwZ_0"
      },
      "outputs": [],
      "source": [
        "# YOUR CODE HERE\n",
        "\n",
        "# calculates the euclidean distance between the query points and each point in the training set\n",
        "# outputs a list of lists containing the euclidean distance for each query point\n",
        "def euc(test, train):\n",
        "    lis = []\n",
        "    for ind, row in test.iterrows(): # iterrates through each row in the test set\n",
        "      tot = []\n",
        "      for in2, row2 in train.iterrows(): # iterrates through each row in the test set\n",
        "        tot.append((((row - row2)**2).sum())**0.5) # calculates the euclidean distance\n",
        "      lis.append(tot)\n",
        "    return lis"
      ]
    },
    {
      "cell_type": "code",
      "execution_count": null,
      "metadata": {
        "id": "UVvRVjKqcumi",
        "outputId": "8f5932db-1c16-4072-c09d-a70fde732bf9"
      },
      "outputs": [
        {
          "name": "stdout",
          "output_type": "stream",
          "text": [
            "[100, 684, 114, 329, 493, 257, 459, 250, 396, 230, 480, 244, 114, 114, 571, 61, 656, 401, 167, 455, 370, 291, 219, 283, 56, 708, 620, 411, 310, 696, 283, 64, 79, 544, 145, 656, 358, 254, 693, 370, 561, 4, 480, 360, 194, 138, 265, 114, 228, 209, 553, 662, 87, 242, 209, 280, 337, 636, 283, 60, 140, 439, 707, 1, 283, 312, 547, 458, 660, 636, 78, 427, 696, 433, 75, 379, 216, 458, 376, 701, 149, 696, 51, 504, 51, 322, 283, 527, 145, 413, 696, 626, 356, 14, 606, 417, 417, 382, 356, 273, 391, 172, 132, 158, 523, 480, 215, 706, 357, 170, 624, 25, 217, 144, 696, 410, 665, 296, 458, 64, 382, 327, 692, 452, 391, 177, 233, 370, 365, 693, 370, 537, 340, 53, 676, 697, 343, 604, 114, 656, 701, 167, 149, 383, 96, 164, 696, 105, 275, 696, 235, 452, 219, 467, 229, 692, 372, 118, 370, 545, 496, 409, 707, 308, 144, 250, 2, 170, 343, 434, 696, 144, 433, 413, 310, 357, 696, 657]\n"
          ]
        }
      ],
      "source": [
        "# function for determining the label for the test set based on the NN approach\n",
        "\n",
        "def NN(train, test, labels):\n",
        "    list_euc = euc(test, train)\n",
        "    pred_list = [np.argmin(i) for i in list_euc] # gets the index of the minimum euclidean distance for each\n",
        "    # query point\n",
        "    pred_labels = [labels.loc[i] for i in pred_list] # gets the corresponding labels for the index\n",
        "    final_labels = pd.DataFrame(pred_labels, index=range(len(test_feat)), columns=[labels.columns[0]]) # converts output to\n",
        "    # pd dataframe\n",
        "    return final_labels\n",
        "\n",
        "pred_labels = NN(train_feat, test_feat, train_labels)"
      ]
    },
    {
      "cell_type": "code",
      "execution_count": null,
      "metadata": {
        "id": "g3trgtKDcumi",
        "outputId": "fd498a09-fa52-469d-958c-d9e595b072eb"
      },
      "outputs": [
        {
          "data": {
            "text/plain": [
              "0.23595505617977527"
            ]
          },
          "execution_count": 33,
          "metadata": {},
          "output_type": "execute_result"
        }
      ],
      "source": [
        "# Calculates the Mean Absolute Error between the test labels and the predicted labels\n",
        "\n",
        "def mae(pred, true):\n",
        "    diff = abs(pred.iloc[:, 0] - true.iloc[:, 0]) # calculates the absolute difference between the two dataframes\n",
        "    tot = diff.sum()\n",
        "    return tot/len(pred)\n",
        "\n",
        "mae(pred_labels, test_labels)"
      ]
    },
    {
      "cell_type": "code",
      "execution_count": null,
      "metadata": {
        "id": "T8OXE78Scumj",
        "outputId": "8d89ccc4-d08a-4d8f-c444-ecca9a902cfd"
      },
      "outputs": [
        {
          "data": {
            "text/plain": [
              "0.7640449438202247"
            ]
          },
          "execution_count": 34,
          "metadata": {},
          "output_type": "execute_result"
        }
      ],
      "source": [
        "def accuracy(pred, true):\n",
        "    diff = true.values - pred.values\n",
        "    label_diff = pd.DataFrame(diff, index=range(len(true)), columns=[true.columns[0]])\n",
        "    final_accuracy = sum(label_diff[true.columns[0]] == 0)/len(label_diff)\n",
        "    return final_accuracy\n",
        "\n",
        "accuracy(pred_labels, test_labels)"
      ]
    },
    {
      "cell_type": "markdown",
      "metadata": {
        "id": "jAejsmlnwbtq"
      },
      "source": [
        "# k-NN implementation (10 Marks)\n",
        "\n",
        "1. Extend the previous implementation by using the average of the k closest neighbours as a prediction\n",
        "\n",
        "2. Add the **Manhattan** and **Hamming** distance.\n"
      ]
    },
    {
      "cell_type": "markdown",
      "metadata": {
        "id": "pf5pF5V2xCAF"
      },
      "source": [
        "2. Compute the mean absolute error (MAE) between the test labels and the predicted values\n",
        "\n",
        "> a. Is it more accurate compared to the previous implementation?"
      ]
    },
    {
      "cell_type": "code",
      "execution_count": null,
      "metadata": {
        "id": "WgJvN1TGcumj"
      },
      "outputs": [],
      "source": [
        "def man(pred, train):\n",
        "    lis = []\n",
        "    for ind, row in pred.iterrows():\n",
        "      tot = []\n",
        "      for in2, row2 in train.iterrows():\n",
        "        tot.append(abs((row - row2)).sum())\n",
        "      lis.append(tot)\n",
        "    return lis"
      ]
    },
    {
      "cell_type": "code",
      "execution_count": null,
      "metadata": {
        "id": "7rWnR-Y9cumj"
      },
      "outputs": [],
      "source": [
        "def ham(pred, train):\n",
        "    lis = []\n",
        "    for ind, row in pred.iterrows():\n",
        "      tot = []\n",
        "      for in2, row2 in train.iterrows():\n",
        "        tot.append((row != row2).sum())\n",
        "      lis.append(tot)\n",
        "    return lis"
      ]
    },
    {
      "cell_type": "code",
      "execution_count": null,
      "metadata": {
        "id": "dQuN1jzMcumj"
      },
      "outputs": [],
      "source": [
        "def KNN(train, test, labels, k, method):\n",
        "    if method == \"hamming\":\n",
        "        list_mse = ham(test, train) # gets the hamming distance between the query and training data\n",
        "    elif method == \"manhattan\":\n",
        "        list_mse = man(test, train) # gets the manhattan distance between the query and training data\n",
        "    elif method == \"euclidean\":\n",
        "        list_mse = euc(test, train) # gets the euclidean distance between the query and training data\n",
        "    else:\n",
        "        return \"Non-valid Method\"\n",
        "\n",
        "    pred_list = [[i.index(j) for j in sorted(i)[:k]] for i in list_mse] # gets the index of the kth smallest values\n",
        "    # of the euclidean distances for each of the test points\n",
        "    pred_labels = [[train_labels.iloc[j, 0] for j in i] for i in pred_list] # gets the labels for each of the\n",
        "    # predicted values for each of the test points\n",
        "    act_labels = [max(set(i), key = i.count) for i in pred_labels] # gets the majority label out of the kth NN.\n",
        "    # this is the prediction label for the test set\n",
        "    final_labels = pd.DataFrame(act_labels, index=range(len(test)), columns=[labels.columns[0]]) # converts the output to a\n",
        "    # panda dataframe\n",
        "    return final_labels"
      ]
    },
    {
      "cell_type": "code",
      "execution_count": null,
      "metadata": {
        "id": "j9Bz71xscumj",
        "outputId": "c193e783-1789-4cca-fc3c-44384f7d06b0"
      },
      "outputs": [
        {
          "name": "stdout",
          "output_type": "stream",
          "text": [
            "0.7640449438202247\n",
            "0.8033707865168539\n",
            "0.848314606741573\n",
            "0.8426966292134831\n"
          ]
        }
      ],
      "source": [
        "print(accuracy(KNN(train_feat, test_feat, train_labels, 1, \"euclidean\"), test_labels))\n",
        "print(accuracy(KNN(train_feat, test_feat, train_labels, 3, \"euclidean\"), test_labels))\n",
        "print(accuracy(KNN(train_feat, test_feat, train_labels, 5, \"euclidean\"), test_labels))\n",
        "print(accuracy(KNN(train_feat, test_feat, train_labels, 7, \"euclidean\"), test_labels))"
      ]
    },
    {
      "cell_type": "code",
      "execution_count": null,
      "metadata": {
        "id": "o_TYaHcocumj",
        "outputId": "853137b4-f52f-4d39-e6cf-7c22b996d200"
      },
      "outputs": [
        {
          "name": "stdout",
          "output_type": "stream",
          "text": [
            "0.7640449438202247\n",
            "0.797752808988764\n",
            "0.8146067415730337\n",
            "0.8258426966292135\n"
          ]
        }
      ],
      "source": [
        "print(accuracy(KNN(train_feat, test_feat, train_labels, 1, \"manhattan\"), test_labels))\n",
        "print(accuracy(KNN(train_feat, test_feat, train_labels, 3, \"manhattan\"), test_labels))\n",
        "print(accuracy(KNN(train_feat, test_feat, train_labels, 5, \"manhattan\"), test_labels))\n",
        "print(accuracy(KNN(train_feat, test_feat, train_labels, 7, \"manhattan\"), test_labels))"
      ]
    },
    {
      "cell_type": "code",
      "execution_count": null,
      "metadata": {
        "id": "6q0GoK7qcumk",
        "outputId": "7eeb96a7-6ff1-4749-dcc3-7a354f69e09e"
      },
      "outputs": [
        {
          "name": "stdout",
          "output_type": "stream",
          "text": [
            "0.7528089887640449\n",
            "0.7528089887640449\n",
            "0.7415730337078652\n",
            "0.7471910112359551\n"
          ]
        }
      ],
      "source": [
        "print(accuracy(KNN(train_feat, test_feat, train_labels, 1, \"hamming\"), test_labels))\n",
        "print(accuracy(KNN(train_feat, test_feat, train_labels, 3, \"hamming\"), test_labels))\n",
        "print(accuracy(KNN(train_feat, test_feat, train_labels, 5, \"hamming\"), test_labels))\n",
        "print(accuracy(KNN(train_feat, test_feat, train_labels, 7, \"hamming\"), test_labels))"
      ]
    },
    {
      "cell_type": "markdown",
      "metadata": {
        "id": "Acr5uHnOcumk"
      },
      "source": [
        "Euclidean (k = 1, 3, 5, 7)\n",
        "0.7640449438202247\n",
        "0.8033707865168539\n",
        "0.848314606741573\n",
        "0.8426966292134831\n",
        "\n",
        "Manhattan (k = 1, 3, 5, 7)\n",
        "0.7640449438202247\n",
        "0.797752808988764\n",
        "0.8146067415730337\n",
        "0.8258426966292135\n",
        "\n",
        "Hamming (k = 1, 3, 5, 7)\n",
        "0.7471910112359551\n",
        "0.7528089887640449\n",
        "0.7415730337078652\n",
        "0.7471910112359551\n"
      ]
    },
    {
      "cell_type": "markdown",
      "metadata": {
        "id": "OZYfM45hKTj1"
      },
      "source": [
        "3. Test your approach for k  values = [1, 3, 5, 7] and the three distance measures\n",
        "\n",
        "> a. Which is the best combination?\n",
        "The best KNN model uses eucildean distance metrics and k = 5\n",
        "\n",
        "> b. How can you improve the results?\n",
        "\n",
        "\n",
        "The best KNN model uses eucildean distance metrics and k = 3. However, this can change depending on how the data is shuffled.\n",
        "\n",
        "To improve the model the correlation between all features prior to separating label and feature datsets was investigated using the code below.\n",
        "\n",
        "All features with a correlation below 0.1 with \"Survived\" (i.e. labels dataset) were removed as these likely did not have a significant influence on the accuracy of the models. This resulted in a reduced accuracy of ~5% for the overall model (i.e. for each distance measure and k value). Therefore, for greatest accuracy of the model it is best to include these features in the model. However, accuracy is still predominantly determined by the features \"Pclass\", \"Sex\", \"Fare\"\n",
        "\n",
        "Features that had a relatively high correlation between each other (e.g. \"Fare\" and \"Pclass\") are simplified and only one is used. This assumes that the two features \"Fare\" and \"Pclass\" provide similar information when determining the model. This can cause overfitting of the model if two features provide the same information to the model. \"Fare\" was removed instead of \"Pclass\" becasue \"Fare\" has a higher correlation with other features than \"Pclass\". This reduced the accuracy of the model by ~3-4%. This is likely due to the correlation between \"Fare\" and \"Pclass\" being 0.68 which may not be a significant level of correlation between the two of them. \"Fare\" also has a correlation of 0.32 with \"Survived\". This likely explains why the accuracy reduced by 3-4% and it as a relatively significant correlation with \"Survived\".\n",
        "\n",
        "The code below was substituted for the \"feat\" subset when splitting the data into features and labels while investigating model improvement"
      ]
    },
    {
      "cell_type": "code",
      "execution_count": null,
      "metadata": {
        "id": "MZNgUoBycumk"
      },
      "outputs": [],
      "source": [
        "corr = df_na.corr(method = \"spearman\")\n",
        "# gets the correlation between all features within the dataset\n",
        "corr_df = feat[[\"Pclass\", \"Sex\", \"Fare\"]]\n",
        "# removes all features that have a correlation below 0.1 with survived\n",
        "corr_df = feat[[\"Pclass\", \"Sex\", \"Age\", \"Siblings/Spouses Aboard\", \"Parents/Children Aboard\"]]\n",
        "# removes fare as it has a correlation of 0.68 with Pclass"
      ]
    },
    {
      "cell_type": "markdown",
      "metadata": {
        "id": "FFj4rxoQxJE8"
      },
      "source": [
        "**Reminder: You can not use any library, with the exception of pandas and NumPy. So scikit-learn is forbidden!**"
      ]
    }
  ],
  "metadata": {
    "colab": {
      "provenance": []
    },
    "kernelspec": {
      "display_name": "Python 3 (ipykernel)",
      "language": "python",
      "name": "python3"
    },
    "language_info": {
      "codemirror_mode": {
        "name": "ipython",
        "version": 3
      },
      "file_extension": ".py",
      "mimetype": "text/x-python",
      "name": "python",
      "nbconvert_exporter": "python",
      "pygments_lexer": "ipython3",
      "version": "3.10.12"
    }
  },
  "nbformat": 4,
  "nbformat_minor": 0
}