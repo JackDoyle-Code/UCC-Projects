{
  "cells": [
    {
      "cell_type": "code",
      "execution_count": null,
      "metadata": {
        "tags": [],
        "id": "NFqmxA9KsSbp",
        "outputId": "0d9d7422-e900-4dad-f5bc-692b9f53a23b"
      },
      "outputs": [
        {
          "name": "stderr",
          "output_type": "stream",
          "text": [
            "2024-02-19 12:23:27.422288: I tensorflow/core/platform/cpu_feature_guard.cc:182] This TensorFlow binary is optimized to use available CPU instructions in performance-critical operations.\n",
            "To enable the following instructions: AVX2 FMA, in other operations, rebuild TensorFlow with the appropriate compiler flags.\n"
          ]
        },
        {
          "name": "stdout",
          "output_type": "stream",
          "text": [
            "2.15.0\n"
          ]
        }
      ],
      "source": [
        "# execute this cell before you start\n",
        "import time\n",
        "\n",
        "import tensorflow as tf\n",
        "import tensorflow.keras\n",
        "\n",
        "# Helper libraries\n",
        "import numpy as np\n",
        "import matplotlib.pyplot as plt\n",
        "\n",
        "print(tf.__version__)\n"
      ]
    },
    {
      "cell_type": "markdown",
      "metadata": {
        "id": "JJFbCLuFsSbs"
      },
      "source": [
        "# Q1 The MNIST data\n",
        "\n",
        "It seems that no course on Machine Learning is complete, without training a network on the famous [MNIST dataset](https://en.wikipedia.org/wiki/MNIST_database) of handwritten digits.  You can access them through `keras.datasets.mnist.load_data()`.\n",
        "\n",
        "The tasks for the first assignment is therefore:"
      ]
    },
    {
      "cell_type": "markdown",
      "metadata": {
        "deletable": false,
        "editable": false,
        "nbgrader": {
          "cell_type": "markdown",
          "checksum": "19072c980585acb866911dcc6f82d991",
          "grade": false,
          "grade_id": "cell-7b393e5e40c7fc98",
          "locked": true,
          "points": 2,
          "schema_version": 3,
          "solution": false,
          "task": true
        },
        "id": "Sq5C33_LsSbs"
      },
      "source": [
        "a) (2 marks) Reproduce the results of L03, but now use the original MNIST dataset.  Comment on your observations on the differences between the datasets."
      ]
    },
    {
      "cell_type": "markdown",
      "metadata": {
        "id": "jDpIuLhosSbs"
      },
      "source": [
        "#### Loading and Normalising the Data"
      ]
    },
    {
      "cell_type": "code",
      "execution_count": null,
      "metadata": {
        "id": "uzHlP4VssSbs"
      },
      "outputs": [],
      "source": [
        "mnist = tf.keras.datasets.mnist\n",
        "(train_images, train_labels), (test_images, test_labels) = mnist.load_data()\n",
        "train_images = train_images / 255.0\n",
        "test_images = test_images / 255.0"
      ]
    },
    {
      "cell_type": "markdown",
      "metadata": {
        "id": "EDjioeNtsSbs"
      },
      "source": [
        "The mnist dataset does not require class names as the base integer values align with the dataset"
      ]
    },
    {
      "cell_type": "markdown",
      "metadata": {
        "id": "Ya_NP8T0sSbt"
      },
      "source": [
        "#### The Model"
      ]
    },
    {
      "cell_type": "code",
      "execution_count": null,
      "metadata": {
        "id": "uhy1wGvlsSbt",
        "outputId": "0387c892-b513-457e-a85a-42fed8bfbfb2"
      },
      "outputs": [
        {
          "name": "stdout",
          "output_type": "stream",
          "text": [
            "Epoch 1/5\n",
            "1875/1875 [==============================] - 2s 922us/step - loss: 0.2550 - accuracy: 0.9266\n",
            "Epoch 2/5\n",
            "1875/1875 [==============================] - 2s 879us/step - loss: 0.1108 - accuracy: 0.9678\n",
            "Epoch 3/5\n",
            "1875/1875 [==============================] - 2s 898us/step - loss: 0.0751 - accuracy: 0.9780\n",
            "Epoch 4/5\n",
            "1875/1875 [==============================] - 2s 888us/step - loss: 0.0565 - accuracy: 0.9827\n",
            "Epoch 5/5\n",
            "1875/1875 [==============================] - 2s 878us/step - loss: 0.0445 - accuracy: 0.9863\n",
            "313/313 [==============================] - 0s 575us/step - loss: 0.0685 - accuracy: 0.9787\n",
            "Time: 12.863981485366821 s\n",
            "Test loss: 0.06849074363708496\n",
            "Test accuracy: 0.9786999821662903\n"
          ]
        }
      ],
      "source": [
        "model = tf.keras.Sequential([\n",
        "    tf.keras.layers.Flatten(input_shape=(28, 28)),\n",
        "    tf.keras.layers.Dense(128, activation=tf.nn.relu),\n",
        "    tf.keras.layers.Dense(10, activation=tf.nn.softmax)\n",
        "])\n",
        "\n",
        "model.compile(optimizer='adam',\n",
        "              loss='sparse_categorical_crossentropy',\n",
        "              # loss = 'mean_squared_error'\n",
        "              metrics=['accuracy'])\n",
        "\n",
        "start = time.time()\n",
        "model.fit(train_images, train_labels, epochs=5)\n",
        "\n",
        "test_loss, test_acc = model.evaluate(test_images, test_labels)\n",
        "end = time.time()\n",
        "print(\"Time:\", (end-start), \"s\")\n",
        "print('Test loss:', test_loss)\n",
        "print('Test accuracy:', test_acc)"
      ]
    },
    {
      "cell_type": "markdown",
      "metadata": {
        "id": "dgcdSNXDsSbt"
      },
      "source": [
        "The training accuracy accuracy of the mnist dataset is higher than the fashion mnist dataset, however the fashion mnist dataset has a greater rate of improvement. mnist = ~6.6% improvement, fashion mnist = ~8% improvement. This is likely because the mnist dataset is a collection of integer values which are easier to interpret than cloting items which give rise to a higher chance of error. Because the mnist dataset is more easily classified it has both a higher starting and ending accurracy, which is considerably high. Whereas the fashion mnist dataset has a lower accurracy overall likely allowing for greater accurracy to be gained when improving the model.\n",
        "\n",
        "Similarly the test accuracy for the mnist dataset is higher than the fashion mnist dataset. However, the fashion mnist has greater loss of accuracy from the training data to the test data than the mnist dataset (~3.4%, ~1% respectively). The accuracy difference between the two dataset can be seen by comparing the groups of images plotted below and the ones plotted in L3. In L3 there were 4/30 images that were mislabelled and 5/30 images that did not have 100% confidence in their image labelling. Whereas, in the plots below, they all have 100% confidence in their image labelling and all the labels are correctly matched with the images."
      ]
    },
    {
      "cell_type": "markdown",
      "metadata": {
        "id": "RL5c5dnIsSbt"
      },
      "source": [
        "#### Plotting"
      ]
    },
    {
      "cell_type": "code",
      "execution_count": null,
      "metadata": {
        "id": "k14w12uosSbt",
        "outputId": "92d4fb2e-4b65-4679-a059-388959786970"
      },
      "outputs": [
        {
          "name": "stdout",
          "output_type": "stream",
          "text": [
            "313/313 [==============================] - 0s 845us/step\n"
          ]
        },
        {
          "data": {
            "image/png": "[encoded data removed]",
            "text/plain": [
              "<Figure size 1200x1000 with 30 Axes>"
            ]
          },
          "metadata": {},
          "output_type": "display_data"
        }
      ],
      "source": [
        "predictions = model.predict(test_images)\n",
        "\n",
        "def plot_image(i, predictions_array, true_label, img):\n",
        "    predictions_array, true_label, img = predictions_array, true_label[i], img[i]\n",
        "    plt.grid(False)\n",
        "    plt.xticks([])\n",
        "    plt.yticks([])\n",
        "\n",
        "    plt.imshow(img, cmap=plt.cm.binary)\n",
        "\n",
        "    predicted_label = np.argmax(predictions_array)\n",
        "    if predicted_label == true_label:\n",
        "        color = 'blue'\n",
        "    else:\n",
        "        color = 'red'\n",
        "\n",
        "    plt.xlabel(\"{} {:2.0f}% ({})\".format([predicted_label],\n",
        "                                100*np.max(predictions_array),\n",
        "                                [true_label]),\n",
        "                                color=color)\n",
        "\n",
        "def plot_value_array(i, predictions_array, true_label):\n",
        "    predictions_array, true_label = predictions_array, true_label[i]\n",
        "    plt.grid(False)\n",
        "    plt.xticks(range(10))\n",
        "    plt.yticks([])\n",
        "    thisplot = plt.bar(range(10), predictions_array, color=\"#777777\")\n",
        "    plt.ylim([0, 1])\n",
        "    predicted_label = np.argmax(predictions_array)\n",
        "\n",
        "    thisplot[predicted_label].set_color('red')\n",
        "    thisplot[true_label].set_color('blue')\n",
        "\n",
        "offset=20\n",
        "num_rows = 5\n",
        "num_cols = 3\n",
        "num_images = num_rows*num_cols\n",
        "plt.figure(figsize=(2*2*num_cols, 2*num_rows))\n",
        "for i in range(num_images):\n",
        "    plt.subplot(num_rows, 2*num_cols, 2*i+1)\n",
        "    plot_image(i+offset, predictions[i+offset], test_labels, test_images)\n",
        "    plt.subplot(num_rows, 2*num_cols, 2*i+2)\n",
        "    plot_value_array(i+offset, predictions[i+offset], test_labels)\n",
        "plt.tight_layout()\n",
        "plt.show()"
      ]
    },
    {
      "cell_type": "markdown",
      "metadata": {
        "deletable": false,
        "nbgrader": {
          "cell_type": "markdown",
          "checksum": "4632a34d2a1ba854f05a9166ec172fe1",
          "grade": false,
          "grade_id": "cell-4b35628262000e69",
          "locked": true,
          "points": 5,
          "schema_version": 3,
          "solution": false,
          "task": true
        },
        "tags": [],
        "id": "YoLi3gEvsSbt"
      },
      "source": [
        "b) (5 marks) How can you improve the performance of the network? Here some suggestions of what you can try\n",
        "   - Change the number of nodes in the hidden layer\n",
        "   - Use a different loss function\n",
        "   - Use a different optimizer\n",
        "   - Change the number of epochs\n",
        "   - Change the batch size\n",
        "   - Play with a dropout layer\n",
        "   - Work with different number of hidden layers\n",
        "   \n",
        "Explain the effect of changing parameters in your own words and draw conclusions about how performance improves.  The mark for this part will depend on the overall insight demonstrated.  Code alone does not yield marks.\n",
        "Note that one aspect of performance is required training time.  Do not use code cells which take longer than 10 minutes to run on standard CPU based hardware. (Also don't use code which exceeds standard memory requirements of about 8GB RAM, but that should not be an issure here)\n",
        "\n"
      ]
    },
    {
      "cell_type": "markdown",
      "metadata": {
        "id": "SFLsW0OosSbu"
      },
      "source": [
        "### Changes"
      ]
    },
    {
      "cell_type": "markdown",
      "metadata": {
        "id": "NT6v0FydsSbu"
      },
      "source": [
        "Nodes\n",
        "\n",
        "Increasing the number of nodes corresponds to an increase in computational time and an increase in accuracy. However, overfitting can occur if there is too many nodes introduced.\n",
        "\n",
        "Increasing the number of nodes is equivalent to icnreasing the number of functions carried out on the input to give a more diverse representation of the possible label that can be given to the output. i.e. there are move diverse outputs from the hidden layer that can more accurately correspond to the correct label. This can increase the confidence and therefore accuracy the nerual network has in selecting the correct label.\n",
        "\n",
        "An increase of 0.72% was found when increasing the number of nodes from 128-1024 and a gradual increase was observed between 128-1024. However, there is a large amount of stochasicity observed in the model which makes it difficult to accurate measure the increase due to an increase in nodes."
      ]
    },
    {
      "cell_type": "code",
      "execution_count": null,
      "metadata": {
        "id": "GwE2dZxssSbu"
      },
      "outputs": [],
      "source": [
        "for i in range(128, 1152, 128):\n",
        "    model = tf.keras.Sequential([\n",
        "        tf.keras.layers.Flatten(input_shape=(28, 28)),\n",
        "        tf.keras.layers.Dense(i, activation=tf.nn.relu),\n",
        "        tf.keras.layers.Dense(10, activation=tf.nn.softmax)\n",
        "\n",
        "    ])\n",
        "\n",
        "    model.compile(optimizer=tf.keras.optimizers.Adam(),\n",
        "                  loss='sparse_categorical_crossentropy',\n",
        "                  metrics=['accuracy'])\n",
        "\n",
        "    start = time.time()\n",
        "    model.fit(train_images, train_labels, epochs=5, batch_size = 32)\n",
        "\n",
        "    test_loss, test_acc = model.evaluate(test_images, test_labels)\n",
        "    end = time.time()\n",
        "    print(\"Time:\", (end-start))\n",
        "    print('Test accuracy:', test_acc)\n",
        "    print(i)"
      ]
    },
    {
      "cell_type": "markdown",
      "metadata": {
        "id": "78IhXrVEsSbu"
      },
      "source": [
        "Loss Function\n",
        "\n",
        "Sparse Categorical Cross Entropy is the ideal loss function to be used in this model as it can directly translate the probabilistic output of the neural network to the corresponding integer labels from the dataset. It does not require one-hot encoding like categorical cross entropy and measures the difference between the predicted probability of the class labels and the true probabilty of the class labels unlike mean squared error which  measures the squared difference between the predicted and true values."
      ]
    },
    {
      "cell_type": "markdown",
      "metadata": {
        "id": "lZAedWC6sSbu"
      },
      "source": [
        "Optimisers\n",
        "\n",
        "The optimisers available for use in tensorflow neural networks are Adafactor, Adam, AdamW and Lion (excluding custom optimisers). Adafactor is subpar optimiser to use for this neural network without changing and adjusting the hyperparamters for this specifc model. Whereas, the other optimisers can effectively use the statistics of the gradients from the sparse categorical cross entropy loss function to improve the model, without the need to adjust the hyperparameters.\n",
        "\n",
        "The difference between Adam and AdamW/Lion becomes more apparent when overfitting becomes a greater which is not relavent within this model unless the epoch of the model is set to a significantly large value (e.g. >100). However, this is not an issue in this model as a low epoch is being used."
      ]
    },
    {
      "cell_type": "markdown",
      "metadata": {
        "id": "VKnOggN2sSbu"
      },
      "source": [
        "Epochs\n",
        "\n",
        "Increasing Epochs should be stopped after Epoch 100 as the training data accuracy tends towards 1 and there is no further improvement made to the test accuracy of the model excluding stochasicity. Any further increase in epoch is likely to cause overfitting in the model resulting in reduced accuracy for the testing data.\n",
        "\n",
        "The majority of the testing accuracy difference between epoch appears to be due to stochasicity (i.e. stochasicity of the model has a greater effect than increasing epoch), however, looking at the tends of between Epoch it appears that the testing accuracy continues to increase up to 100 but at a very slow rate. Therefore it is recommended to use a lower Epoch for the optimal model as increasing the Epoch results in a low increase in testing accuracy but signiifcantly increase the computational time. 6.85 times greater computational time at 100 Epoch with only 0.35% accuracy increase."
      ]
    },
    {
      "cell_type": "code",
      "execution_count": null,
      "metadata": {
        "id": "At0eaN_-sSbu",
        "outputId": "127b8581-698f-40d8-9dc7-ec36257c27de"
      },
      "outputs": [
        {
          "name": "stdout",
          "output_type": "stream",
          "text": [
            "Epoch 1/5\n",
            "1875/1875 [==============================] - 2s 928us/step - loss: 0.2587 - accuracy: 0.9266\n",
            "Epoch 2/5\n",
            "1875/1875 [==============================] - 2s 931us/step - loss: 0.1134 - accuracy: 0.9664\n",
            "Epoch 3/5\n",
            "1875/1875 [==============================] - 2s 910us/step - loss: 0.0783 - accuracy: 0.9767\n",
            "Epoch 4/5\n",
            "1875/1875 [==============================] - 2s 924us/step - loss: 0.0600 - accuracy: 0.9816\n",
            "Epoch 5/5\n",
            "1875/1875 [==============================] - 2s 923us/step - loss: 0.0467 - accuracy: 0.9851\n",
            "313/313 [==============================] - 0s 593us/step - loss: 0.0808 - accuracy: 0.9749\n",
            "Time: 9.298736572265625\n",
            "Test accuracy: 0.9749000072479248\n",
            "5\n",
            "Epoch 1/10\n",
            " 610/1875 [========>.....................] - ETA: 1s - loss: 0.0381 - accuracy: 0.9881"
          ]
        },
        {
          "ename": "KeyboardInterrupt",
          "evalue": "",
          "output_type": "error",
          "traceback": [
            "\u001b[0;31m---------------------------------------------------------------------------\u001b[0m",
            "\u001b[0;31mKeyboardInterrupt\u001b[0m                         Traceback (most recent call last)",
            "Cell \u001b[0;32mIn[44], line 14\u001b[0m\n\u001b[1;32m      9\u001b[0m model\u001b[38;5;241m.\u001b[39mcompile(optimizer\u001b[38;5;241m=\u001b[39mtf\u001b[38;5;241m.\u001b[39mkeras\u001b[38;5;241m.\u001b[39moptimizers\u001b[38;5;241m.\u001b[39mAdam(), \n\u001b[1;32m     10\u001b[0m               loss\u001b[38;5;241m=\u001b[39m\u001b[38;5;124m'\u001b[39m\u001b[38;5;124msparse_categorical_crossentropy\u001b[39m\u001b[38;5;124m'\u001b[39m,\n\u001b[1;32m     11\u001b[0m               metrics\u001b[38;5;241m=\u001b[39m[\u001b[38;5;124m'\u001b[39m\u001b[38;5;124maccuracy\u001b[39m\u001b[38;5;124m'\u001b[39m])\n\u001b[1;32m     13\u001b[0m start \u001b[38;5;241m=\u001b[39m time\u001b[38;5;241m.\u001b[39mtime()\n\u001b[0;32m---> 14\u001b[0m \u001b[43mmodel\u001b[49m\u001b[38;5;241;43m.\u001b[39;49m\u001b[43mfit\u001b[49m\u001b[43m(\u001b[49m\u001b[43mtrain_images\u001b[49m\u001b[43m,\u001b[49m\u001b[43m \u001b[49m\u001b[43mtrain_labels\u001b[49m\u001b[43m,\u001b[49m\u001b[43m \u001b[49m\u001b[43mepochs\u001b[49m\u001b[38;5;241;43m=\u001b[39;49m\u001b[43mi\u001b[49m\u001b[43m,\u001b[49m\u001b[43m \u001b[49m\u001b[43mbatch_size\u001b[49m\u001b[43m \u001b[49m\u001b[38;5;241;43m=\u001b[39;49m\u001b[43m \u001b[49m\u001b[38;5;241;43m32\u001b[39;49m\u001b[43m)\u001b[49m\n\u001b[1;32m     16\u001b[0m test_loss, test_acc \u001b[38;5;241m=\u001b[39m model\u001b[38;5;241m.\u001b[39mevaluate(test_images, test_labels)\n\u001b[1;32m     17\u001b[0m end \u001b[38;5;241m=\u001b[39m time\u001b[38;5;241m.\u001b[39mtime()\n",
            "File \u001b[0;32m~/tfvenv/lib/python3.10/site-packages/keras/src/utils/traceback_utils.py:65\u001b[0m, in \u001b[0;36mfilter_traceback.<locals>.error_handler\u001b[0;34m(*args, **kwargs)\u001b[0m\n\u001b[1;32m     63\u001b[0m filtered_tb \u001b[38;5;241m=\u001b[39m \u001b[38;5;28;01mNone\u001b[39;00m\n\u001b[1;32m     64\u001b[0m \u001b[38;5;28;01mtry\u001b[39;00m:\n\u001b[0;32m---> 65\u001b[0m     \u001b[38;5;28;01mreturn\u001b[39;00m \u001b[43mfn\u001b[49m\u001b[43m(\u001b[49m\u001b[38;5;241;43m*\u001b[39;49m\u001b[43margs\u001b[49m\u001b[43m,\u001b[49m\u001b[43m \u001b[49m\u001b[38;5;241;43m*\u001b[39;49m\u001b[38;5;241;43m*\u001b[39;49m\u001b[43mkwargs\u001b[49m\u001b[43m)\u001b[49m\n\u001b[1;32m     66\u001b[0m \u001b[38;5;28;01mexcept\u001b[39;00m \u001b[38;5;167;01mException\u001b[39;00m \u001b[38;5;28;01mas\u001b[39;00m e:\n\u001b[1;32m     67\u001b[0m     filtered_tb \u001b[38;5;241m=\u001b[39m _process_traceback_frames(e\u001b[38;5;241m.\u001b[39m__traceback__)\n",
            "File \u001b[0;32m~/tfvenv/lib/python3.10/site-packages/keras/src/engine/training.py:1798\u001b[0m, in \u001b[0;36mModel.fit\u001b[0;34m(self, x, y, batch_size, epochs, verbose, callbacks, validation_split, validation_data, shuffle, class_weight, sample_weight, initial_epoch, steps_per_epoch, validation_steps, validation_batch_size, validation_freq, max_queue_size, workers, use_multiprocessing)\u001b[0m\n\u001b[1;32m   1796\u001b[0m callbacks\u001b[38;5;241m.\u001b[39mon_epoch_begin(epoch)\n\u001b[1;32m   1797\u001b[0m \u001b[38;5;28;01mwith\u001b[39;00m data_handler\u001b[38;5;241m.\u001b[39mcatch_stop_iteration():\n\u001b[0;32m-> 1798\u001b[0m     \u001b[38;5;28;01mfor\u001b[39;00m step \u001b[38;5;129;01min\u001b[39;00m data_handler\u001b[38;5;241m.\u001b[39msteps():\n\u001b[1;32m   1799\u001b[0m         \u001b[38;5;28;01mwith\u001b[39;00m tf\u001b[38;5;241m.\u001b[39mprofiler\u001b[38;5;241m.\u001b[39mexperimental\u001b[38;5;241m.\u001b[39mTrace(\n\u001b[1;32m   1800\u001b[0m             \u001b[38;5;124m\"\u001b[39m\u001b[38;5;124mtrain\u001b[39m\u001b[38;5;124m\"\u001b[39m,\n\u001b[1;32m   1801\u001b[0m             epoch_num\u001b[38;5;241m=\u001b[39mepoch,\n\u001b[0;32m   (...)\u001b[0m\n\u001b[1;32m   1804\u001b[0m             _r\u001b[38;5;241m=\u001b[39m\u001b[38;5;241m1\u001b[39m,\n\u001b[1;32m   1805\u001b[0m         ):\n\u001b[1;32m   1806\u001b[0m             callbacks\u001b[38;5;241m.\u001b[39mon_train_batch_begin(step)\n",
            "File \u001b[0;32m~/tfvenv/lib/python3.10/site-packages/keras/src/engine/data_adapter.py:1411\u001b[0m, in \u001b[0;36mDataHandler.steps\u001b[0;34m(self)\u001b[0m\n\u001b[1;32m   1409\u001b[0m \u001b[38;5;28;01mif\u001b[39;00m \u001b[38;5;28mself\u001b[39m\u001b[38;5;241m.\u001b[39m_insufficient_data:  \u001b[38;5;66;03m# Set by `catch_stop_iteration`.\u001b[39;00m\n\u001b[1;32m   1410\u001b[0m     \u001b[38;5;28;01mbreak\u001b[39;00m\n\u001b[0;32m-> 1411\u001b[0m original_spe \u001b[38;5;241m=\u001b[39m \u001b[38;5;28;43mself\u001b[39;49m\u001b[38;5;241;43m.\u001b[39;49m\u001b[43m_steps_per_execution\u001b[49m\u001b[38;5;241;43m.\u001b[39;49m\u001b[43mnumpy\u001b[49m\u001b[43m(\u001b[49m\u001b[43m)\u001b[49m\u001b[38;5;241m.\u001b[39mitem()\n\u001b[1;32m   1412\u001b[0m can_run_full_execution \u001b[38;5;241m=\u001b[39m (\n\u001b[1;32m   1413\u001b[0m     original_spe \u001b[38;5;241m==\u001b[39m \u001b[38;5;241m1\u001b[39m\n\u001b[1;32m   1414\u001b[0m     \u001b[38;5;129;01mor\u001b[39;00m \u001b[38;5;28mself\u001b[39m\u001b[38;5;241m.\u001b[39m_inferred_steps \u001b[38;5;129;01mis\u001b[39;00m \u001b[38;5;28;01mNone\u001b[39;00m\n\u001b[1;32m   1415\u001b[0m     \u001b[38;5;129;01mor\u001b[39;00m \u001b[38;5;28mself\u001b[39m\u001b[38;5;241m.\u001b[39m_inferred_steps \u001b[38;5;241m-\u001b[39m \u001b[38;5;28mself\u001b[39m\u001b[38;5;241m.\u001b[39m_current_step \u001b[38;5;241m>\u001b[39m\u001b[38;5;241m=\u001b[39m original_spe\n\u001b[1;32m   1416\u001b[0m )\n\u001b[1;32m   1418\u001b[0m \u001b[38;5;28;01mif\u001b[39;00m can_run_full_execution:\n",
            "File \u001b[0;32m~/tfvenv/lib/python3.10/site-packages/tensorflow/python/ops/resource_variable_ops.py:689\u001b[0m, in \u001b[0;36mBaseResourceVariable.numpy\u001b[0;34m(self)\u001b[0m\n\u001b[1;32m    687\u001b[0m \u001b[38;5;28;01mdef\u001b[39;00m \u001b[38;5;21mnumpy\u001b[39m(\u001b[38;5;28mself\u001b[39m):\n\u001b[1;32m    688\u001b[0m   \u001b[38;5;28;01mif\u001b[39;00m context\u001b[38;5;241m.\u001b[39mexecuting_eagerly():\n\u001b[0;32m--> 689\u001b[0m     \u001b[38;5;28;01mreturn\u001b[39;00m \u001b[38;5;28;43mself\u001b[39;49m\u001b[38;5;241;43m.\u001b[39;49m\u001b[43mread_value\u001b[49m\u001b[43m(\u001b[49m\u001b[43m)\u001b[49m\u001b[38;5;241m.\u001b[39mnumpy()\n\u001b[1;32m    690\u001b[0m   \u001b[38;5;28;01mraise\u001b[39;00m \u001b[38;5;167;01mNotImplementedError\u001b[39;00m(\n\u001b[1;32m    691\u001b[0m       \u001b[38;5;124m\"\u001b[39m\u001b[38;5;124mnumpy() is only available when eager execution is enabled.\u001b[39m\u001b[38;5;124m\"\u001b[39m)\n",
            "File \u001b[0;32m~/tfvenv/lib/python3.10/site-packages/tensorflow/python/ops/resource_variable_ops.py:839\u001b[0m, in \u001b[0;36mBaseResourceVariable.read_value\u001b[0;34m(self)\u001b[0m\n\u001b[1;32m    830\u001b[0m \u001b[38;5;250m\u001b[39m\u001b[38;5;124;03m\"\"\"Constructs an op which reads the value of this variable.\u001b[39;00m\n\u001b[1;32m    831\u001b[0m \n\u001b[1;32m    832\u001b[0m \u001b[38;5;124;03mShould be used when there are multiple reads, or when it is desirable to\u001b[39;00m\n\u001b[0;32m   (...)\u001b[0m\n\u001b[1;32m    836\u001b[0m \u001b[38;5;124;03m  The value of the variable.\u001b[39;00m\n\u001b[1;32m    837\u001b[0m \u001b[38;5;124;03m\"\"\"\u001b[39;00m\n\u001b[1;32m    838\u001b[0m \u001b[38;5;28;01mwith\u001b[39;00m ops\u001b[38;5;241m.\u001b[39mname_scope(\u001b[38;5;124m\"\u001b[39m\u001b[38;5;124mRead\u001b[39m\u001b[38;5;124m\"\u001b[39m):\n\u001b[0;32m--> 839\u001b[0m   value \u001b[38;5;241m=\u001b[39m \u001b[38;5;28;43mself\u001b[39;49m\u001b[38;5;241;43m.\u001b[39;49m\u001b[43m_read_variable_op\u001b[49m\u001b[43m(\u001b[49m\u001b[43m)\u001b[49m\n\u001b[1;32m    840\u001b[0m \u001b[38;5;66;03m# Return an identity so it can get placed on whatever device the context\u001b[39;00m\n\u001b[1;32m    841\u001b[0m \u001b[38;5;66;03m# specifies instead of the device where the variable is.\u001b[39;00m\n\u001b[1;32m    842\u001b[0m \u001b[38;5;28;01mreturn\u001b[39;00m array_ops\u001b[38;5;241m.\u001b[39midentity(value)\n",
            "File \u001b[0;32m~/tfvenv/lib/python3.10/site-packages/tensorflow/python/ops/resource_variable_ops.py:803\u001b[0m, in \u001b[0;36mBaseResourceVariable._read_variable_op\u001b[0;34m(self, no_copy)\u001b[0m\n\u001b[1;32m    791\u001b[0m \u001b[38;5;28;01mdef\u001b[39;00m \u001b[38;5;21m_read_variable_op\u001b[39m(\u001b[38;5;28mself\u001b[39m, no_copy\u001b[38;5;241m=\u001b[39m\u001b[38;5;28;01mFalse\u001b[39;00m):\n\u001b[1;32m    792\u001b[0m \u001b[38;5;250m  \u001b[39m\u001b[38;5;124;03m\"\"\"Reads the value of the variable.\u001b[39;00m\n\u001b[1;32m    793\u001b[0m \n\u001b[1;32m    794\u001b[0m \u001b[38;5;124;03m  If the variable is in copy-on-read mode and `no_copy` is True, the variable\u001b[39;00m\n\u001b[0;32m   (...)\u001b[0m\n\u001b[1;32m    801\u001b[0m \u001b[38;5;124;03m    The value of the variable.\u001b[39;00m\n\u001b[1;32m    802\u001b[0m \u001b[38;5;124;03m  \"\"\"\u001b[39;00m\n\u001b[0;32m--> 803\u001b[0m   \u001b[43mvariable_accessed\u001b[49m\u001b[43m(\u001b[49m\u001b[38;5;28;43mself\u001b[39;49m\u001b[43m)\u001b[49m\n\u001b[1;32m    805\u001b[0m   \u001b[38;5;28;01mdef\u001b[39;00m \u001b[38;5;21mread_and_set_handle\u001b[39m(no_copy):\n\u001b[1;32m    806\u001b[0m     \u001b[38;5;28;01mif\u001b[39;00m no_copy \u001b[38;5;129;01mand\u001b[39;00m forward_compat\u001b[38;5;241m.\u001b[39mforward_compatible(\u001b[38;5;241m2022\u001b[39m, \u001b[38;5;241m5\u001b[39m, \u001b[38;5;241m3\u001b[39m):\n",
            "File \u001b[0;32m~/tfvenv/lib/python3.10/site-packages/tensorflow/python/ops/resource_variable_ops.py:335\u001b[0m, in \u001b[0;36mvariable_accessed\u001b[0;34m(variable)\u001b[0m\n\u001b[1;32m    333\u001b[0m   ops\u001b[38;5;241m.\u001b[39mget_default_graph()\u001b[38;5;241m.\u001b[39mwatch_variable(variable)\n\u001b[1;32m    334\u001b[0m \u001b[38;5;28;01mif\u001b[39;00m variable\u001b[38;5;241m.\u001b[39mtrainable:\n\u001b[0;32m--> 335\u001b[0m   \u001b[43mtape\u001b[49m\u001b[38;5;241;43m.\u001b[39;49m\u001b[43mvariable_accessed\u001b[49m\u001b[43m(\u001b[49m\u001b[43mvariable\u001b[49m\u001b[43m)\u001b[49m\n",
            "File \u001b[0;32m~/tfvenv/lib/python3.10/site-packages/tensorflow/python/eager/tape.py:83\u001b[0m, in \u001b[0;36mvariable_accessed\u001b[0;34m(variable)\u001b[0m\n\u001b[1;32m     77\u001b[0m \u001b[38;5;28;01mdef\u001b[39;00m \u001b[38;5;21mvariable_accessed\u001b[39m(variable):\n\u001b[1;32m     78\u001b[0m \u001b[38;5;250m  \u001b[39m\u001b[38;5;124;03m\"\"\"Notifies all tapes in the stack that a variable has been accessed.\u001b[39;00m\n\u001b[1;32m     79\u001b[0m \n\u001b[1;32m     80\u001b[0m \u001b[38;5;124;03m  Args:\u001b[39;00m\n\u001b[1;32m     81\u001b[0m \u001b[38;5;124;03m    variable: variable to be watched.\u001b[39;00m\n\u001b[1;32m     82\u001b[0m \u001b[38;5;124;03m  \"\"\"\u001b[39;00m\n\u001b[0;32m---> 83\u001b[0m   variables \u001b[38;5;241m=\u001b[39m \u001b[43m_variables_override\u001b[49m\u001b[43m(\u001b[49m\u001b[43mvariable\u001b[49m\u001b[43m)\u001b[49m\n\u001b[1;32m     84\u001b[0m   \u001b[38;5;28;01mfor\u001b[39;00m var \u001b[38;5;129;01min\u001b[39;00m variables:\n\u001b[1;32m     85\u001b[0m     pywrap_tfe\u001b[38;5;241m.\u001b[39mTFE_Py_TapeVariableAccessed(var)\n",
            "File \u001b[0;32m~/tfvenv/lib/python3.10/site-packages/tensorflow/python/distribute/distribute_lib.py:4214\u001b[0m, in \u001b[0;36mget_local_results_or_value_container\u001b[0;34m(variable)\u001b[0m\n\u001b[1;32m   4213\u001b[0m \u001b[38;5;28;01mdef\u001b[39;00m \u001b[38;5;21mget_local_results_or_value_container\u001b[39m(variable):\n\u001b[0;32m-> 4214\u001b[0m   strategy, context \u001b[38;5;241m=\u001b[39m \u001b[43mget_strategy_and_replica_context\u001b[49m\u001b[43m(\u001b[49m\u001b[43m)\u001b[49m\n\u001b[1;32m   4215\u001b[0m   \u001b[38;5;28;01mif\u001b[39;00m context:\n\u001b[1;32m   4216\u001b[0m     \u001b[38;5;28;01mreturn\u001b[39;00m [strategy\u001b[38;5;241m.\u001b[39mextended\u001b[38;5;241m.\u001b[39mvalue_container(variable)]\n",
            "\u001b[0;31mKeyboardInterrupt\u001b[0m: "
          ]
        }
      ],
      "source": [
        "model = tf.keras.Sequential([\n",
        "    tf.keras.layers.Flatten(input_shape=(28, 28)),\n",
        "    tf.keras.layers.Dense(128, activation=tf.nn.relu),\n",
        "    tf.keras.layers.Dense(10, activation=tf.nn.softmax)\n",
        "\n",
        "])\n",
        "\n",
        "for i in range(5, 105, 5):\n",
        "    model.compile(optimizer=tf.keras.optimizers.Adam(),\n",
        "                  loss='sparse_categorical_crossentropy',\n",
        "                  metrics=['accuracy'])\n",
        "\n",
        "    start = time.time()\n",
        "    model.fit(train_images, train_labels, epochs=i, batch_size = 32)\n",
        "\n",
        "    test_loss, test_acc = model.evaluate(test_images, test_labels)\n",
        "    end = time.time()\n",
        "    print(\"Time:\", (end-start))\n",
        "    print('Test accuracy:', test_acc)\n",
        "    print(i)"
      ]
    },
    {
      "cell_type": "markdown",
      "metadata": {
        "id": "1TxwbRfvsSbu"
      },
      "source": [
        "Batch Size\n",
        "\n",
        "Increasing batch size results in a lower computational time and lower accuracy. This is becasue there is less images being run through the neural network before updating the loss function. This can cause the loss function to converge more slowly towards the optimal minima or get stuck entirely into an non-optimal local minima.\n",
        "\n",
        "Decreasing the Batch Size results in an improved accuracy until reaching a Batch Size of ~20 in which it will start to decrease. This is likely becasue low Batch sizes decrease the generalisation of the model. Low Batch Sizes can often miss underlying patterns in the data when compared to larger Batch Sizes as large Batch Sizes provide more representative information about the dataset to update the model's parameters than low Btach Sizes.\n",
        "\n",
        "The optimal Batch Size found for increasing accuracy was 24 although there was little to no difference between 20-26 This consistency suggests that the observed variations in accuracy within this range were likely due to stochastic effects rather than significant differences in batch size. The overall increase in accuracy found by changing Batch Size was ~0.36%\n",
        "\n",
        "However, to improve the model via computational time it would be advised to increase the Batch Size as the computational time increased by ~30% compared to the base model"
      ]
    },
    {
      "cell_type": "code",
      "execution_count": null,
      "metadata": {
        "id": "nSNKszbgsSbu",
        "outputId": "e2c67412-53ca-475b-f1d7-0f7a97c63c19"
      },
      "outputs": [
        {
          "name": "stdout",
          "output_type": "stream",
          "text": [
            "Epoch 1/5\n",
            "3750/3750 [==============================] - 4s 843us/step - loss: 0.2354 - accuracy: 0.9320\n",
            "Epoch 2/5\n",
            "3750/3750 [==============================] - 3s 830us/step - loss: 0.1020 - accuracy: 0.9689\n",
            "Epoch 3/5\n",
            "2177/3750 [================>.............] - ETA: 1s - loss: 0.0702 - accuracy: 0.9787"
          ]
        },
        {
          "ename": "KeyboardInterrupt",
          "evalue": "",
          "output_type": "error",
          "traceback": [
            "\u001b[0;31m---------------------------------------------------------------------------\u001b[0m",
            "\u001b[0;31mKeyboardInterrupt\u001b[0m                         Traceback (most recent call last)",
            "Cell \u001b[0;32mIn[3], line 14\u001b[0m\n\u001b[1;32m      9\u001b[0m model\u001b[38;5;241m.\u001b[39mcompile(optimizer\u001b[38;5;241m=\u001b[39mtf\u001b[38;5;241m.\u001b[39mkeras\u001b[38;5;241m.\u001b[39moptimizers\u001b[38;5;241m.\u001b[39mAdam(), \n\u001b[1;32m     10\u001b[0m               loss\u001b[38;5;241m=\u001b[39m\u001b[38;5;124m'\u001b[39m\u001b[38;5;124msparse_categorical_crossentropy\u001b[39m\u001b[38;5;124m'\u001b[39m,\n\u001b[1;32m     11\u001b[0m               metrics\u001b[38;5;241m=\u001b[39m[\u001b[38;5;124m'\u001b[39m\u001b[38;5;124maccuracy\u001b[39m\u001b[38;5;124m'\u001b[39m])\n\u001b[1;32m     13\u001b[0m start \u001b[38;5;241m=\u001b[39m time\u001b[38;5;241m.\u001b[39mtime()\n\u001b[0;32m---> 14\u001b[0m \u001b[43mmodel\u001b[49m\u001b[38;5;241;43m.\u001b[39;49m\u001b[43mfit\u001b[49m\u001b[43m(\u001b[49m\u001b[43mtrain_images\u001b[49m\u001b[43m,\u001b[49m\u001b[43m \u001b[49m\u001b[43mtrain_labels\u001b[49m\u001b[43m,\u001b[49m\u001b[43m \u001b[49m\u001b[43mepochs\u001b[49m\u001b[38;5;241;43m=\u001b[39;49m\u001b[38;5;241;43m5\u001b[39;49m\u001b[43m,\u001b[49m\u001b[43m \u001b[49m\u001b[43mbatch_size\u001b[49m\u001b[43m \u001b[49m\u001b[38;5;241;43m=\u001b[39;49m\u001b[43m \u001b[49m\u001b[43mi\u001b[49m\u001b[43m)\u001b[49m\n\u001b[1;32m     16\u001b[0m test_loss, test_acc \u001b[38;5;241m=\u001b[39m model\u001b[38;5;241m.\u001b[39mevaluate(test_images, test_labels)\n\u001b[1;32m     17\u001b[0m end \u001b[38;5;241m=\u001b[39m time\u001b[38;5;241m.\u001b[39mtime()\n",
            "File \u001b[0;32m~/tfvenv/lib/python3.10/site-packages/keras/src/utils/traceback_utils.py:65\u001b[0m, in \u001b[0;36mfilter_traceback.<locals>.error_handler\u001b[0;34m(*args, **kwargs)\u001b[0m\n\u001b[1;32m     63\u001b[0m filtered_tb \u001b[38;5;241m=\u001b[39m \u001b[38;5;28;01mNone\u001b[39;00m\n\u001b[1;32m     64\u001b[0m \u001b[38;5;28;01mtry\u001b[39;00m:\n\u001b[0;32m---> 65\u001b[0m     \u001b[38;5;28;01mreturn\u001b[39;00m \u001b[43mfn\u001b[49m\u001b[43m(\u001b[49m\u001b[38;5;241;43m*\u001b[39;49m\u001b[43margs\u001b[49m\u001b[43m,\u001b[49m\u001b[43m \u001b[49m\u001b[38;5;241;43m*\u001b[39;49m\u001b[38;5;241;43m*\u001b[39;49m\u001b[43mkwargs\u001b[49m\u001b[43m)\u001b[49m\n\u001b[1;32m     66\u001b[0m \u001b[38;5;28;01mexcept\u001b[39;00m \u001b[38;5;167;01mException\u001b[39;00m \u001b[38;5;28;01mas\u001b[39;00m e:\n\u001b[1;32m     67\u001b[0m     filtered_tb \u001b[38;5;241m=\u001b[39m _process_traceback_frames(e\u001b[38;5;241m.\u001b[39m__traceback__)\n",
            "File \u001b[0;32m~/tfvenv/lib/python3.10/site-packages/keras/src/engine/training.py:1807\u001b[0m, in \u001b[0;36mModel.fit\u001b[0;34m(self, x, y, batch_size, epochs, verbose, callbacks, validation_split, validation_data, shuffle, class_weight, sample_weight, initial_epoch, steps_per_epoch, validation_steps, validation_batch_size, validation_freq, max_queue_size, workers, use_multiprocessing)\u001b[0m\n\u001b[1;32m   1799\u001b[0m \u001b[38;5;28;01mwith\u001b[39;00m tf\u001b[38;5;241m.\u001b[39mprofiler\u001b[38;5;241m.\u001b[39mexperimental\u001b[38;5;241m.\u001b[39mTrace(\n\u001b[1;32m   1800\u001b[0m     \u001b[38;5;124m\"\u001b[39m\u001b[38;5;124mtrain\u001b[39m\u001b[38;5;124m\"\u001b[39m,\n\u001b[1;32m   1801\u001b[0m     epoch_num\u001b[38;5;241m=\u001b[39mepoch,\n\u001b[0;32m   (...)\u001b[0m\n\u001b[1;32m   1804\u001b[0m     _r\u001b[38;5;241m=\u001b[39m\u001b[38;5;241m1\u001b[39m,\n\u001b[1;32m   1805\u001b[0m ):\n\u001b[1;32m   1806\u001b[0m     callbacks\u001b[38;5;241m.\u001b[39mon_train_batch_begin(step)\n\u001b[0;32m-> 1807\u001b[0m     tmp_logs \u001b[38;5;241m=\u001b[39m \u001b[38;5;28;43mself\u001b[39;49m\u001b[38;5;241;43m.\u001b[39;49m\u001b[43mtrain_function\u001b[49m\u001b[43m(\u001b[49m\u001b[43miterator\u001b[49m\u001b[43m)\u001b[49m\n\u001b[1;32m   1808\u001b[0m     \u001b[38;5;28;01mif\u001b[39;00m data_handler\u001b[38;5;241m.\u001b[39mshould_sync:\n\u001b[1;32m   1809\u001b[0m         context\u001b[38;5;241m.\u001b[39masync_wait()\n",
            "File \u001b[0;32m~/tfvenv/lib/python3.10/site-packages/tensorflow/python/util/traceback_utils.py:150\u001b[0m, in \u001b[0;36mfilter_traceback.<locals>.error_handler\u001b[0;34m(*args, **kwargs)\u001b[0m\n\u001b[1;32m    148\u001b[0m filtered_tb \u001b[38;5;241m=\u001b[39m \u001b[38;5;28;01mNone\u001b[39;00m\n\u001b[1;32m    149\u001b[0m \u001b[38;5;28;01mtry\u001b[39;00m:\n\u001b[0;32m--> 150\u001b[0m   \u001b[38;5;28;01mreturn\u001b[39;00m \u001b[43mfn\u001b[49m\u001b[43m(\u001b[49m\u001b[38;5;241;43m*\u001b[39;49m\u001b[43margs\u001b[49m\u001b[43m,\u001b[49m\u001b[43m \u001b[49m\u001b[38;5;241;43m*\u001b[39;49m\u001b[38;5;241;43m*\u001b[39;49m\u001b[43mkwargs\u001b[49m\u001b[43m)\u001b[49m\n\u001b[1;32m    151\u001b[0m \u001b[38;5;28;01mexcept\u001b[39;00m \u001b[38;5;167;01mException\u001b[39;00m \u001b[38;5;28;01mas\u001b[39;00m e:\n\u001b[1;32m    152\u001b[0m   filtered_tb \u001b[38;5;241m=\u001b[39m _process_traceback_frames(e\u001b[38;5;241m.\u001b[39m__traceback__)\n",
            "File \u001b[0;32m~/tfvenv/lib/python3.10/site-packages/tensorflow/python/eager/polymorphic_function/polymorphic_function.py:832\u001b[0m, in \u001b[0;36mFunction.__call__\u001b[0;34m(self, *args, **kwds)\u001b[0m\n\u001b[1;32m    829\u001b[0m compiler \u001b[38;5;241m=\u001b[39m \u001b[38;5;124m\"\u001b[39m\u001b[38;5;124mxla\u001b[39m\u001b[38;5;124m\"\u001b[39m \u001b[38;5;28;01mif\u001b[39;00m \u001b[38;5;28mself\u001b[39m\u001b[38;5;241m.\u001b[39m_jit_compile \u001b[38;5;28;01melse\u001b[39;00m \u001b[38;5;124m\"\u001b[39m\u001b[38;5;124mnonXla\u001b[39m\u001b[38;5;124m\"\u001b[39m\n\u001b[1;32m    831\u001b[0m \u001b[38;5;28;01mwith\u001b[39;00m OptionalXlaContext(\u001b[38;5;28mself\u001b[39m\u001b[38;5;241m.\u001b[39m_jit_compile):\n\u001b[0;32m--> 832\u001b[0m   result \u001b[38;5;241m=\u001b[39m \u001b[38;5;28;43mself\u001b[39;49m\u001b[38;5;241;43m.\u001b[39;49m\u001b[43m_call\u001b[49m\u001b[43m(\u001b[49m\u001b[38;5;241;43m*\u001b[39;49m\u001b[43margs\u001b[49m\u001b[43m,\u001b[49m\u001b[43m \u001b[49m\u001b[38;5;241;43m*\u001b[39;49m\u001b[38;5;241;43m*\u001b[39;49m\u001b[43mkwds\u001b[49m\u001b[43m)\u001b[49m\n\u001b[1;32m    834\u001b[0m new_tracing_count \u001b[38;5;241m=\u001b[39m \u001b[38;5;28mself\u001b[39m\u001b[38;5;241m.\u001b[39mexperimental_get_tracing_count()\n\u001b[1;32m    835\u001b[0m without_tracing \u001b[38;5;241m=\u001b[39m (tracing_count \u001b[38;5;241m==\u001b[39m new_tracing_count)\n",
            "File \u001b[0;32m~/tfvenv/lib/python3.10/site-packages/tensorflow/python/eager/polymorphic_function/polymorphic_function.py:868\u001b[0m, in \u001b[0;36mFunction._call\u001b[0;34m(self, *args, **kwds)\u001b[0m\n\u001b[1;32m    865\u001b[0m   \u001b[38;5;28mself\u001b[39m\u001b[38;5;241m.\u001b[39m_lock\u001b[38;5;241m.\u001b[39mrelease()\n\u001b[1;32m    866\u001b[0m   \u001b[38;5;66;03m# In this case we have created variables on the first call, so we run the\u001b[39;00m\n\u001b[1;32m    867\u001b[0m   \u001b[38;5;66;03m# defunned version which is guaranteed to never create variables.\u001b[39;00m\n\u001b[0;32m--> 868\u001b[0m   \u001b[38;5;28;01mreturn\u001b[39;00m \u001b[43mtracing_compilation\u001b[49m\u001b[38;5;241;43m.\u001b[39;49m\u001b[43mcall_function\u001b[49m\u001b[43m(\u001b[49m\n\u001b[1;32m    869\u001b[0m \u001b[43m      \u001b[49m\u001b[43margs\u001b[49m\u001b[43m,\u001b[49m\u001b[43m \u001b[49m\u001b[43mkwds\u001b[49m\u001b[43m,\u001b[49m\u001b[43m \u001b[49m\u001b[38;5;28;43mself\u001b[39;49m\u001b[38;5;241;43m.\u001b[39;49m\u001b[43m_no_variable_creation_config\u001b[49m\n\u001b[1;32m    870\u001b[0m \u001b[43m  \u001b[49m\u001b[43m)\u001b[49m\n\u001b[1;32m    871\u001b[0m \u001b[38;5;28;01melif\u001b[39;00m \u001b[38;5;28mself\u001b[39m\u001b[38;5;241m.\u001b[39m_variable_creation_config \u001b[38;5;129;01mis\u001b[39;00m \u001b[38;5;129;01mnot\u001b[39;00m \u001b[38;5;28;01mNone\u001b[39;00m:\n\u001b[1;32m    872\u001b[0m   \u001b[38;5;66;03m# Release the lock early so that multiple threads can perform the call\u001b[39;00m\n\u001b[1;32m    873\u001b[0m   \u001b[38;5;66;03m# in parallel.\u001b[39;00m\n\u001b[1;32m    874\u001b[0m   \u001b[38;5;28mself\u001b[39m\u001b[38;5;241m.\u001b[39m_lock\u001b[38;5;241m.\u001b[39mrelease()\n",
            "File \u001b[0;32m~/tfvenv/lib/python3.10/site-packages/tensorflow/python/eager/polymorphic_function/tracing_compilation.py:139\u001b[0m, in \u001b[0;36mcall_function\u001b[0;34m(args, kwargs, tracing_options)\u001b[0m\n\u001b[1;32m    137\u001b[0m bound_args \u001b[38;5;241m=\u001b[39m function\u001b[38;5;241m.\u001b[39mfunction_type\u001b[38;5;241m.\u001b[39mbind(\u001b[38;5;241m*\u001b[39margs, \u001b[38;5;241m*\u001b[39m\u001b[38;5;241m*\u001b[39mkwargs)\n\u001b[1;32m    138\u001b[0m flat_inputs \u001b[38;5;241m=\u001b[39m function\u001b[38;5;241m.\u001b[39mfunction_type\u001b[38;5;241m.\u001b[39munpack_inputs(bound_args)\n\u001b[0;32m--> 139\u001b[0m \u001b[38;5;28;01mreturn\u001b[39;00m \u001b[43mfunction\u001b[49m\u001b[38;5;241;43m.\u001b[39;49m\u001b[43m_call_flat\u001b[49m\u001b[43m(\u001b[49m\u001b[43m  \u001b[49m\u001b[38;5;66;43;03m# pylint: disable=protected-access\u001b[39;49;00m\n\u001b[1;32m    140\u001b[0m \u001b[43m    \u001b[49m\u001b[43mflat_inputs\u001b[49m\u001b[43m,\u001b[49m\u001b[43m \u001b[49m\u001b[43mcaptured_inputs\u001b[49m\u001b[38;5;241;43m=\u001b[39;49m\u001b[43mfunction\u001b[49m\u001b[38;5;241;43m.\u001b[39;49m\u001b[43mcaptured_inputs\u001b[49m\n\u001b[1;32m    141\u001b[0m \u001b[43m\u001b[49m\u001b[43m)\u001b[49m\n",
            "File \u001b[0;32m~/tfvenv/lib/python3.10/site-packages/tensorflow/python/eager/polymorphic_function/concrete_function.py:1323\u001b[0m, in \u001b[0;36mConcreteFunction._call_flat\u001b[0;34m(self, tensor_inputs, captured_inputs)\u001b[0m\n\u001b[1;32m   1319\u001b[0m possible_gradient_type \u001b[38;5;241m=\u001b[39m gradients_util\u001b[38;5;241m.\u001b[39mPossibleTapeGradientTypes(args)\n\u001b[1;32m   1320\u001b[0m \u001b[38;5;28;01mif\u001b[39;00m (possible_gradient_type \u001b[38;5;241m==\u001b[39m gradients_util\u001b[38;5;241m.\u001b[39mPOSSIBLE_GRADIENT_TYPES_NONE\n\u001b[1;32m   1321\u001b[0m     \u001b[38;5;129;01mand\u001b[39;00m executing_eagerly):\n\u001b[1;32m   1322\u001b[0m   \u001b[38;5;66;03m# No tape is watching; skip to running the function.\u001b[39;00m\n\u001b[0;32m-> 1323\u001b[0m   \u001b[38;5;28;01mreturn\u001b[39;00m \u001b[38;5;28;43mself\u001b[39;49m\u001b[38;5;241;43m.\u001b[39;49m\u001b[43m_inference_function\u001b[49m\u001b[38;5;241;43m.\u001b[39;49m\u001b[43mcall_preflattened\u001b[49m\u001b[43m(\u001b[49m\u001b[43margs\u001b[49m\u001b[43m)\u001b[49m\n\u001b[1;32m   1324\u001b[0m forward_backward \u001b[38;5;241m=\u001b[39m \u001b[38;5;28mself\u001b[39m\u001b[38;5;241m.\u001b[39m_select_forward_and_backward_functions(\n\u001b[1;32m   1325\u001b[0m     args,\n\u001b[1;32m   1326\u001b[0m     possible_gradient_type,\n\u001b[1;32m   1327\u001b[0m     executing_eagerly)\n\u001b[1;32m   1328\u001b[0m forward_function, args_with_tangents \u001b[38;5;241m=\u001b[39m forward_backward\u001b[38;5;241m.\u001b[39mforward()\n",
            "File \u001b[0;32m~/tfvenv/lib/python3.10/site-packages/tensorflow/python/eager/polymorphic_function/atomic_function.py:216\u001b[0m, in \u001b[0;36mAtomicFunction.call_preflattened\u001b[0;34m(self, args)\u001b[0m\n\u001b[1;32m    214\u001b[0m \u001b[38;5;28;01mdef\u001b[39;00m \u001b[38;5;21mcall_preflattened\u001b[39m(\u001b[38;5;28mself\u001b[39m, args: Sequence[core\u001b[38;5;241m.\u001b[39mTensor]) \u001b[38;5;241m-\u001b[39m\u001b[38;5;241m>\u001b[39m Any:\n\u001b[1;32m    215\u001b[0m \u001b[38;5;250m  \u001b[39m\u001b[38;5;124;03m\"\"\"Calls with flattened tensor inputs and returns the structured output.\"\"\"\u001b[39;00m\n\u001b[0;32m--> 216\u001b[0m   flat_outputs \u001b[38;5;241m=\u001b[39m \u001b[38;5;28;43mself\u001b[39;49m\u001b[38;5;241;43m.\u001b[39;49m\u001b[43mcall_flat\u001b[49m\u001b[43m(\u001b[49m\u001b[38;5;241;43m*\u001b[39;49m\u001b[43margs\u001b[49m\u001b[43m)\u001b[49m\n\u001b[1;32m    217\u001b[0m   \u001b[38;5;28;01mreturn\u001b[39;00m \u001b[38;5;28mself\u001b[39m\u001b[38;5;241m.\u001b[39mfunction_type\u001b[38;5;241m.\u001b[39mpack_output(flat_outputs)\n",
            "File \u001b[0;32m~/tfvenv/lib/python3.10/site-packages/tensorflow/python/eager/polymorphic_function/atomic_function.py:251\u001b[0m, in \u001b[0;36mAtomicFunction.call_flat\u001b[0;34m(self, *args)\u001b[0m\n\u001b[1;32m    249\u001b[0m \u001b[38;5;28;01mwith\u001b[39;00m record\u001b[38;5;241m.\u001b[39mstop_recording():\n\u001b[1;32m    250\u001b[0m   \u001b[38;5;28;01mif\u001b[39;00m \u001b[38;5;28mself\u001b[39m\u001b[38;5;241m.\u001b[39m_bound_context\u001b[38;5;241m.\u001b[39mexecuting_eagerly():\n\u001b[0;32m--> 251\u001b[0m     outputs \u001b[38;5;241m=\u001b[39m \u001b[38;5;28;43mself\u001b[39;49m\u001b[38;5;241;43m.\u001b[39;49m\u001b[43m_bound_context\u001b[49m\u001b[38;5;241;43m.\u001b[39;49m\u001b[43mcall_function\u001b[49m\u001b[43m(\u001b[49m\n\u001b[1;32m    252\u001b[0m \u001b[43m        \u001b[49m\u001b[38;5;28;43mself\u001b[39;49m\u001b[38;5;241;43m.\u001b[39;49m\u001b[43mname\u001b[49m\u001b[43m,\u001b[49m\n\u001b[1;32m    253\u001b[0m \u001b[43m        \u001b[49m\u001b[38;5;28;43mlist\u001b[39;49m\u001b[43m(\u001b[49m\u001b[43margs\u001b[49m\u001b[43m)\u001b[49m\u001b[43m,\u001b[49m\n\u001b[1;32m    254\u001b[0m \u001b[43m        \u001b[49m\u001b[38;5;28;43mlen\u001b[39;49m\u001b[43m(\u001b[49m\u001b[38;5;28;43mself\u001b[39;49m\u001b[38;5;241;43m.\u001b[39;49m\u001b[43mfunction_type\u001b[49m\u001b[38;5;241;43m.\u001b[39;49m\u001b[43mflat_outputs\u001b[49m\u001b[43m)\u001b[49m\u001b[43m,\u001b[49m\n\u001b[1;32m    255\u001b[0m \u001b[43m    \u001b[49m\u001b[43m)\u001b[49m\n\u001b[1;32m    256\u001b[0m   \u001b[38;5;28;01melse\u001b[39;00m:\n\u001b[1;32m    257\u001b[0m     outputs \u001b[38;5;241m=\u001b[39m make_call_op_in_graph(\n\u001b[1;32m    258\u001b[0m         \u001b[38;5;28mself\u001b[39m,\n\u001b[1;32m    259\u001b[0m         \u001b[38;5;28mlist\u001b[39m(args),\n\u001b[1;32m    260\u001b[0m         \u001b[38;5;28mself\u001b[39m\u001b[38;5;241m.\u001b[39m_bound_context\u001b[38;5;241m.\u001b[39mfunction_call_options\u001b[38;5;241m.\u001b[39mas_attrs(),\n\u001b[1;32m    261\u001b[0m     )\n",
            "File \u001b[0;32m~/tfvenv/lib/python3.10/site-packages/tensorflow/python/eager/context.py:1486\u001b[0m, in \u001b[0;36mContext.call_function\u001b[0;34m(self, name, tensor_inputs, num_outputs)\u001b[0m\n\u001b[1;32m   1484\u001b[0m cancellation_context \u001b[38;5;241m=\u001b[39m cancellation\u001b[38;5;241m.\u001b[39mcontext()\n\u001b[1;32m   1485\u001b[0m \u001b[38;5;28;01mif\u001b[39;00m cancellation_context \u001b[38;5;129;01mis\u001b[39;00m \u001b[38;5;28;01mNone\u001b[39;00m:\n\u001b[0;32m-> 1486\u001b[0m   outputs \u001b[38;5;241m=\u001b[39m \u001b[43mexecute\u001b[49m\u001b[38;5;241;43m.\u001b[39;49m\u001b[43mexecute\u001b[49m\u001b[43m(\u001b[49m\n\u001b[1;32m   1487\u001b[0m \u001b[43m      \u001b[49m\u001b[43mname\u001b[49m\u001b[38;5;241;43m.\u001b[39;49m\u001b[43mdecode\u001b[49m\u001b[43m(\u001b[49m\u001b[38;5;124;43m\"\u001b[39;49m\u001b[38;5;124;43mutf-8\u001b[39;49m\u001b[38;5;124;43m\"\u001b[39;49m\u001b[43m)\u001b[49m\u001b[43m,\u001b[49m\n\u001b[1;32m   1488\u001b[0m \u001b[43m      \u001b[49m\u001b[43mnum_outputs\u001b[49m\u001b[38;5;241;43m=\u001b[39;49m\u001b[43mnum_outputs\u001b[49m\u001b[43m,\u001b[49m\n\u001b[1;32m   1489\u001b[0m \u001b[43m      \u001b[49m\u001b[43minputs\u001b[49m\u001b[38;5;241;43m=\u001b[39;49m\u001b[43mtensor_inputs\u001b[49m\u001b[43m,\u001b[49m\n\u001b[1;32m   1490\u001b[0m \u001b[43m      \u001b[49m\u001b[43mattrs\u001b[49m\u001b[38;5;241;43m=\u001b[39;49m\u001b[43mattrs\u001b[49m\u001b[43m,\u001b[49m\n\u001b[1;32m   1491\u001b[0m \u001b[43m      \u001b[49m\u001b[43mctx\u001b[49m\u001b[38;5;241;43m=\u001b[39;49m\u001b[38;5;28;43mself\u001b[39;49m\u001b[43m,\u001b[49m\n\u001b[1;32m   1492\u001b[0m \u001b[43m  \u001b[49m\u001b[43m)\u001b[49m\n\u001b[1;32m   1493\u001b[0m \u001b[38;5;28;01melse\u001b[39;00m:\n\u001b[1;32m   1494\u001b[0m   outputs \u001b[38;5;241m=\u001b[39m execute\u001b[38;5;241m.\u001b[39mexecute_with_cancellation(\n\u001b[1;32m   1495\u001b[0m       name\u001b[38;5;241m.\u001b[39mdecode(\u001b[38;5;124m\"\u001b[39m\u001b[38;5;124mutf-8\u001b[39m\u001b[38;5;124m\"\u001b[39m),\n\u001b[1;32m   1496\u001b[0m       num_outputs\u001b[38;5;241m=\u001b[39mnum_outputs,\n\u001b[0;32m   (...)\u001b[0m\n\u001b[1;32m   1500\u001b[0m       cancellation_manager\u001b[38;5;241m=\u001b[39mcancellation_context,\n\u001b[1;32m   1501\u001b[0m   )\n",
            "File \u001b[0;32m~/tfvenv/lib/python3.10/site-packages/tensorflow/python/eager/execute.py:53\u001b[0m, in \u001b[0;36mquick_execute\u001b[0;34m(op_name, num_outputs, inputs, attrs, ctx, name)\u001b[0m\n\u001b[1;32m     51\u001b[0m \u001b[38;5;28;01mtry\u001b[39;00m:\n\u001b[1;32m     52\u001b[0m   ctx\u001b[38;5;241m.\u001b[39mensure_initialized()\n\u001b[0;32m---> 53\u001b[0m   tensors \u001b[38;5;241m=\u001b[39m \u001b[43mpywrap_tfe\u001b[49m\u001b[38;5;241;43m.\u001b[39;49m\u001b[43mTFE_Py_Execute\u001b[49m\u001b[43m(\u001b[49m\u001b[43mctx\u001b[49m\u001b[38;5;241;43m.\u001b[39;49m\u001b[43m_handle\u001b[49m\u001b[43m,\u001b[49m\u001b[43m \u001b[49m\u001b[43mdevice_name\u001b[49m\u001b[43m,\u001b[49m\u001b[43m \u001b[49m\u001b[43mop_name\u001b[49m\u001b[43m,\u001b[49m\n\u001b[1;32m     54\u001b[0m \u001b[43m                                      \u001b[49m\u001b[43minputs\u001b[49m\u001b[43m,\u001b[49m\u001b[43m \u001b[49m\u001b[43mattrs\u001b[49m\u001b[43m,\u001b[49m\u001b[43m \u001b[49m\u001b[43mnum_outputs\u001b[49m\u001b[43m)\u001b[49m\n\u001b[1;32m     55\u001b[0m \u001b[38;5;28;01mexcept\u001b[39;00m core\u001b[38;5;241m.\u001b[39m_NotOkStatusException \u001b[38;5;28;01mas\u001b[39;00m e:\n\u001b[1;32m     56\u001b[0m   \u001b[38;5;28;01mif\u001b[39;00m name \u001b[38;5;129;01mis\u001b[39;00m \u001b[38;5;129;01mnot\u001b[39;00m \u001b[38;5;28;01mNone\u001b[39;00m:\n",
            "\u001b[0;31mKeyboardInterrupt\u001b[0m: "
          ]
        }
      ],
      "source": [
        "model = tf.keras.Sequential([\n",
        "    tf.keras.layers.Flatten(input_shape=(28, 28)),\n",
        "    tf.keras.layers.Dense(128, activation=tf.nn.relu),\n",
        "    tf.keras.layers.Dense(10, activation=tf.nn.softmax)\n",
        "\n",
        "])\n",
        "\n",
        "for i in range(16, 32, 2):\n",
        "    model.compile(optimizer=tf.keras.optimizers.Adam(),\n",
        "                  loss='sparse_categorical_crossentropy',\n",
        "                  metrics=['accuracy'])\n",
        "\n",
        "    start = time.time()\n",
        "    model.fit(train_images, train_labels, epochs=5, batch_size = i)\n",
        "\n",
        "    test_loss, test_acc = model.evaluate(test_images, test_labels)\n",
        "    end = time.time()\n",
        "    print(\"Time:\", (end-start))\n",
        "    print('Test accuracy:', test_acc)\n",
        "    print(i)"
      ]
    },
    {
      "cell_type": "markdown",
      "metadata": {
        "id": "4NOew728sSbu"
      },
      "source": [
        "Dropout Layer\n",
        "\n",
        "The dropout layer is used to prevent overfitting by removing a random proportion (e.g. 0.5) of the nodes from the previous layer to prevent the neural network from relying on previously created pathways. This can help the neural network from getting stuck in a local minima.\n",
        "\n",
        "The model was run with a dropout layer ranging from 0.2-0.8. When the Dropout layer was included in the model there was a decrease in computational time as the value for the Dropout layer increased. This is because there is a larger proportion of nodes being eliminated from the layer resulting in less input and outputs from the Dropout layer.\n",
        "\n",
        "In regards to accuracy the dropout layer did not improve the overall accuracy of the model and any changes between it and the model excluding the droput layer is likely due to stochasicity.\n",
        "\n",
        "Perhaps in there was greater overfitting in the model, it may increase the accuracy, however, this model does not require the dropout layer as there is little to no overfitting. Increasing the epoch along with the dropout layer also did not see an increase in accuracy apart from just the increase from the change in epoch.\n",
        "\n",
        "Therefore, a dropout layer was not included in the final model"
      ]
    },
    {
      "cell_type": "code",
      "execution_count": null,
      "metadata": {
        "id": "MNRNkYjtsSbv",
        "outputId": "af26894a-b82a-45b4-beb2-be53a5444b04"
      },
      "outputs": [
        {
          "name": "stdout",
          "output_type": "stream",
          "text": [
            "Epoch 1/5\n",
            "1875/1875 [==============================] - 10s 5ms/step - loss: 0.1977 - accuracy: 0.9391\n",
            "Epoch 2/5\n",
            "1875/1875 [==============================] - 10s 5ms/step - loss: 0.0900 - accuracy: 0.9729\n",
            "Epoch 3/5\n",
            "1875/1875 [==============================] - 10s 5ms/step - loss: 0.0666 - accuracy: 0.9800\n",
            "Epoch 4/5\n",
            "1875/1875 [==============================] - 10s 5ms/step - loss: 0.0511 - accuracy: 0.9844\n",
            "Epoch 5/5\n",
            "1875/1875 [==============================] - 10s 5ms/step - loss: 0.0438 - accuracy: 0.9867\n",
            "313/313 [==============================] - 0s 1ms/step - loss: 0.0801 - accuracy: 0.9787\n",
            "Time: 50.79838967323303\n",
            "Test accuracy: 0.9786999821662903\n",
            "0.2\n",
            "Epoch 1/5\n",
            "1875/1875 [==============================] - 10s 5ms/step - loss: 0.2082 - accuracy: 0.9364\n",
            "Epoch 2/5\n",
            "1875/1875 [==============================] - 10s 5ms/step - loss: 0.0940 - accuracy: 0.9722\n",
            "Epoch 3/5\n",
            "1875/1875 [==============================] - 10s 5ms/step - loss: 0.0695 - accuracy: 0.9794\n",
            "Epoch 4/5\n",
            "1875/1875 [==============================] - 10s 5ms/step - loss: 0.0552 - accuracy: 0.9833\n",
            "Epoch 5/5\n",
            "1875/1875 [==============================] - 9s 5ms/step - loss: 0.0452 - accuracy: 0.9864\n",
            "313/313 [==============================] - 0s 1ms/step - loss: 0.0879 - accuracy: 0.9769\n",
            "Time: 49.622945070266724\n",
            "Test accuracy: 0.9768999814987183\n",
            "0.3\n",
            "Epoch 1/5\n",
            "1875/1875 [==============================] - 10s 5ms/step - loss: 0.2135 - accuracy: 0.9359\n",
            "Epoch 2/5\n",
            "1875/1875 [==============================] - 10s 5ms/step - loss: 0.0976 - accuracy: 0.9703\n",
            "Epoch 3/5\n",
            "1875/1875 [==============================] - 10s 5ms/step - loss: 0.0721 - accuracy: 0.9776\n",
            "Epoch 4/5\n",
            "1875/1875 [==============================] - 10s 5ms/step - loss: 0.0581 - accuracy: 0.9816\n",
            "Epoch 5/5\n",
            "1875/1875 [==============================] - 9s 5ms/step - loss: 0.0461 - accuracy: 0.9859\n",
            "313/313 [==============================] - 0s 1ms/step - loss: 0.0781 - accuracy: 0.9786\n",
            "Time: 49.32479238510132\n",
            "Test accuracy: 0.978600025177002\n",
            "0.4\n",
            "Epoch 1/5\n",
            "1875/1875 [==============================] - 11s 5ms/step - loss: 0.2258 - accuracy: 0.9320\n",
            "Epoch 2/5\n",
            "1875/1875 [==============================] - 10s 5ms/step - loss: 0.1043 - accuracy: 0.9689\n",
            "Epoch 3/5\n",
            "1875/1875 [==============================] - 10s 5ms/step - loss: 0.0762 - accuracy: 0.9771\n",
            "Epoch 4/5\n",
            "1875/1875 [==============================] - 10s 5ms/step - loss: 0.0609 - accuracy: 0.9807\n",
            "Epoch 5/5\n",
            "1875/1875 [==============================] - 10s 6ms/step - loss: 0.0502 - accuracy: 0.9851\n",
            "313/313 [==============================] - 0s 988us/step - loss: 0.0861 - accuracy: 0.9769\n",
            "Time: 52.308704137802124\n",
            "Test accuracy: 0.9768999814987183\n",
            "0.5\n",
            "Epoch 1/5\n",
            "1875/1875 [==============================] - 10s 5ms/step - loss: 0.2417 - accuracy: 0.9268\n",
            "Epoch 2/5\n",
            "1875/1875 [==============================] - 10s 5ms/step - loss: 0.1094 - accuracy: 0.9679\n",
            "Epoch 3/5\n",
            "1875/1875 [==============================] - 10s 5ms/step - loss: 0.0845 - accuracy: 0.9755\n",
            "Epoch 4/5\n",
            "1875/1875 [==============================] - 10s 5ms/step - loss: 0.0665 - accuracy: 0.9801\n",
            "Epoch 5/5\n",
            "1875/1875 [==============================] - 10s 5ms/step - loss: 0.0571 - accuracy: 0.9830\n",
            "313/313 [==============================] - 0s 1ms/step - loss: 0.0761 - accuracy: 0.9794\n",
            "Time: 49.3040406703949\n",
            "Test accuracy: 0.9793999791145325\n",
            "0.6\n",
            "Epoch 1/5\n",
            "1875/1875 [==============================] - 11s 5ms/step - loss: 0.2636 - accuracy: 0.9197\n",
            "Epoch 2/5\n",
            "1875/1875 [==============================] - 10s 5ms/step - loss: 0.1210 - accuracy: 0.9659\n",
            "Epoch 3/5\n",
            "1875/1875 [==============================] - 10s 5ms/step - loss: 0.0898 - accuracy: 0.9737\n",
            "Epoch 4/5\n",
            "1875/1875 [==============================] - 10s 5ms/step - loss: 0.0727 - accuracy: 0.9790\n",
            "Epoch 5/5\n",
            "1875/1875 [==============================] - 10s 5ms/step - loss: 0.0620 - accuracy: 0.9822\n",
            "313/313 [==============================] - 0s 995us/step - loss: 0.0774 - accuracy: 0.9794\n",
            "Time: 51.358421087265015\n",
            "Test accuracy: 0.9793999791145325\n",
            "0.7\n",
            "Epoch 1/5\n",
            "1875/1875 [==============================] - 11s 5ms/step - loss: 0.3086 - accuracy: 0.9079\n",
            "Epoch 2/5\n",
            "1875/1875 [==============================] - 10s 6ms/step - loss: 0.1364 - accuracy: 0.9613\n",
            "Epoch 3/5\n",
            "1875/1875 [==============================] - 10s 5ms/step - loss: 0.1033 - accuracy: 0.9717\n",
            "Epoch 4/5\n",
            "1875/1875 [==============================] - 10s 5ms/step - loss: 0.0855 - accuracy: 0.9757\n",
            "Epoch 5/5\n",
            "1875/1875 [==============================] - 10s 5ms/step - loss: 0.0715 - accuracy: 0.9794\n",
            "313/313 [==============================] - 0s 979us/step - loss: 0.0978 - accuracy: 0.9741\n",
            "Time: 52.327956676483154\n",
            "Test accuracy: 0.9740999937057495\n",
            "0.8\n"
          ]
        }
      ],
      "source": [
        "for i in range(2, 9, 1) :\n",
        "    model = tf.keras.Sequential([\n",
        "        tf.keras.layers.Flatten(input_shape=(28, 28)),\n",
        "        tf.keras.layers.Dense(768, activation=tf.nn.relu),\n",
        "        tf.keras.layers.Dense(512, activation=tf.nn.relu),\n",
        "        tf.keras.layers.Dropout(i/10),\n",
        "        tf.keras.layers.Dense(128, activation=tf.nn.relu),\n",
        "        tf.keras.layers.Dense(10, activation=tf.nn.softmax)\n",
        "\n",
        "    ])\n",
        "\n",
        "    model.compile(optimizer=tf.keras.optimizers.Adam(),\n",
        "                  loss='sparse_categorical_crossentropy',\n",
        "                  metrics=['accuracy'])\n",
        "\n",
        "    start = time.time()\n",
        "    model.fit(train_images, train_labels, epochs=5, batch_size = 32)\n",
        "\n",
        "    test_loss, test_acc = model.evaluate(test_images, test_labels)\n",
        "    end = time.time()\n",
        "    print(\"Time:\", (end-start))\n",
        "    print('Test accuracy:', test_acc)\n",
        "    print(i/10)"
      ]
    },
    {
      "cell_type": "markdown",
      "metadata": {
        "id": "7-DPZkfUsSbv"
      },
      "source": [
        "Hidden Layers\n",
        "\n",
        "The first model was adding multiple identical dense layers (i.e. 5-20 dense layers of 128 nodes). This resulted in a decrease in both computational time and accuracy. This likely occurs because it is adding unnecessary complexitiy to the model without adding any computational advantage.\n",
        "\n",
        "Bottlenecking the layers by including two high node dense layers (1024) with a low node dense layer (128) between them increases the accuracy of the base model but this is likely due to the total increase in nodes which was found to increase accuracy (see nodes), rather than a direct increase due to bottlenecking.\n",
        "\n",
        "the optimal orintation to improve accuracy seems to be starting with a larger number of nodes and lowering the number of nodes with each dense layer which can be seen in the optimal model\n",
        "\n",
        "The optimal orientation of hidden layers to improve accuracy seems to include a high node value in the first layer and gradually decreasing the node value through the layers. This is likely due to increase the total number of nodes but the interactions between the layers helps to improve the model more than just having a single layer with a number of nodes equalling the sum of the nodes from all layers."
      ]
    },
    {
      "cell_type": "code",
      "execution_count": null,
      "metadata": {
        "id": "XjqPuk3hsSbv",
        "outputId": "13adfe1b-8a6b-4433-933f-2e09f43d246c"
      },
      "outputs": [
        {
          "name": "stdout",
          "output_type": "stream",
          "text": [
            "Epoch 1/5\n",
            "1875/1875 [==============================] - 10s 5ms/step - loss: 0.1907 - accuracy: 0.9419\n",
            "Epoch 2/5\n",
            "1875/1875 [==============================] - 10s 5ms/step - loss: 0.0887 - accuracy: 0.9732\n",
            "Epoch 3/5\n",
            "1875/1875 [==============================] - 10s 5ms/step - loss: 0.0616 - accuracy: 0.9812\n",
            "Epoch 4/5\n",
            "1875/1875 [==============================] - 10s 5ms/step - loss: 0.0492 - accuracy: 0.9850\n",
            "Epoch 5/5\n",
            "1875/1875 [==============================] - 10s 5ms/step - loss: 0.0377 - accuracy: 0.9881\n",
            "313/313 [==============================] - 0s 1ms/step - loss: 0.0915 - accuracy: 0.9765\n",
            "Time: 49.54059052467346\n",
            "Test accuracy: 0.9764999747276306\n"
          ]
        }
      ],
      "source": [
        "model = tf.keras.Sequential([\n",
        "    tf.keras.layers.Flatten(input_shape=(28, 28)),\n",
        "    tf.keras.layers.Dense(128, activation=tf.nn.relu),\n",
        "    tf.keras.layers.Dense(128, activation=tf.nn.relu),\n",
        "    tf.keras.layers.Dense(128, activation=tf.nn.relu),\n",
        "    tf.keras.layers.Dense(128, activation=tf.nn.relu),\n",
        "    tf.keras.layers.Dense(128, activation=tf.nn.relu),\n",
        "    tf.keras.layers.Dense(10, activation=tf.nn.softmax)\n",
        "\n",
        "])\n",
        "\n",
        "model.compile(optimizer=tf.keras.optimizers.Adam(),\n",
        "              loss='sparse_categorical_crossentropy',\n",
        "              metrics=['accuracy'])\n",
        "\n",
        "start = time.time()\n",
        "model.fit(train_images, train_labels, epochs=5, batch_size = 32)\n",
        "\n",
        "test_loss, test_acc = model.evaluate(test_images, test_labels)\n",
        "end = time.time()\n",
        "print(\"Time:\", (end-start))\n",
        "print('Test accuracy:', test_acc)"
      ]
    },
    {
      "cell_type": "code",
      "execution_count": null,
      "metadata": {
        "id": "7yNffH16sSbv"
      },
      "outputs": [],
      "source": [
        "model = tf.keras.Sequential([\n",
        "    tf.keras.layers.Flatten(input_shape=(28, 28)),\n",
        "    tf.keras.layers.Dense(1024, activation=tf.nn.relu),\n",
        "    tf.keras.layers.Dense(128, activation=tf.nn.relu),\n",
        "    tf.keras.layers.Dense(1024, activation=tf.nn.relu),\n",
        "    tf.keras.layers.Dense(10, activation=tf.nn.softmax)\n",
        "\n",
        "])\n",
        "\n",
        "model.compile(optimizer=tf.keras.optimizers.Adam(),\n",
        "              loss='sparse_categorical_crossentropy',\n",
        "              metrics=['accuracy'])\n",
        "\n",
        "start = time.time()\n",
        "model.fit(train_images, train_labels, epochs=5, batch_size = 32)\n",
        "\n",
        "test_loss, test_acc = model.evaluate(test_images, test_labels)\n",
        "end = time.time()\n",
        "print(\"Time:\", (end-start))\n",
        "print('Test accuracy:', test_acc)"
      ]
    },
    {
      "cell_type": "code",
      "execution_count": null,
      "metadata": {
        "id": "kkomB15TsSbv"
      },
      "outputs": [],
      "source": [
        "model = tf.keras.Sequential([\n",
        "    tf.keras.layers.Flatten(input_shape=(28, 28)),\n",
        "    tf.keras.layers.Dense(768, activation=tf.nn.relu),\n",
        "    tf.keras.layers.Dense(512, activation=tf.nn.relu),\n",
        "    tf.keras.layers.Dense(128, activation=tf.nn.relu),\n",
        "    tf.keras.layers.Dense(10, activation=tf.nn.softmax)\n",
        "\n",
        "])\n",
        "\n",
        "model.compile(optimizer=tf.keras.optimizers.Adam(),\n",
        "              loss='sparse_categorical_crossentropy',\n",
        "              metrics=['accuracy'])\n",
        "\n",
        "start = time.time()\n",
        "model.fit(train_images, train_labels, epochs=5, batch_size = 32)\n",
        "\n",
        "test_loss, test_acc = model.evaluate(test_images, test_labels)\n",
        "end = time.time()\n",
        "print(\"Time:\", (end-start))\n",
        "print('Test accuracy:', test_acc)"
      ]
    },
    {
      "cell_type": "markdown",
      "metadata": {
        "id": "El_S_Zh3sSbv"
      },
      "source": [
        "## Optimal Model"
      ]
    },
    {
      "cell_type": "markdown",
      "metadata": {
        "id": "RPQFWQ-jsSbv"
      },
      "source": [
        "The optimal model incluedes loss, epoc, batch, optimiser, number of nodes, layers, etc.\n",
        "Why\n",
        "mention it is not too long time wise but still good accuracy"
      ]
    },
    {
      "cell_type": "code",
      "execution_count": null,
      "metadata": {
        "id": "hxNl3RKYsSbv",
        "outputId": "cfcdcb64-9362-458c-c6e3-03eda0a7946b"
      },
      "outputs": [
        {
          "name": "stdout",
          "output_type": "stream",
          "text": [
            "Epoch 1/5\n",
            "2500/2500 [==============================] - 13s 5ms/step - loss: 0.1929 - accuracy: 0.9408\n",
            "Epoch 2/5\n",
            "2500/2500 [==============================] - 13s 5ms/step - loss: 0.0910 - accuracy: 0.9725\n",
            "Epoch 3/5\n",
            "2500/2500 [==============================] - 13s 5ms/step - loss: 0.0650 - accuracy: 0.9801\n",
            "Epoch 4/5\n",
            "2500/2500 [==============================] - 13s 5ms/step - loss: 0.0523 - accuracy: 0.9837\n",
            "Epoch 5/5\n",
            "2500/2500 [==============================] - 12s 5ms/step - loss: 0.0411 - accuracy: 0.9873\n",
            "313/313 [==============================] - 0s 1ms/step - loss: 0.0704 - accuracy: 0.9810\n",
            "Time: 64.94777393341064\n",
            "Test accuracy: 0.9810000061988831\n"
          ]
        }
      ],
      "source": [
        "model = tf.keras.Sequential([\n",
        "    tf.keras.layers.Flatten(input_shape=(28, 28)),\n",
        "    tf.keras.layers.Dense(768, activation=tf.nn.relu),\n",
        "    tf.keras.layers.Dense(512, activation=tf.nn.relu),\n",
        "    tf.keras.layers.Dense(128, activation=tf.nn.relu),\n",
        "    tf.keras.layers.Dense(10, activation=tf.nn.softmax)\n",
        "\n",
        "])\n",
        "\n",
        "model.compile(optimizer=tf.keras.optimizers.Adam(),\n",
        "              loss='sparse_categorical_crossentropy',\n",
        "              metrics=['accuracy'])\n",
        "\n",
        "start = time.time()\n",
        "model.fit(train_images, train_labels, epochs=5, batch_size = 24)\n",
        "\n",
        "test_loss, test_acc = model.evaluate(test_images, test_labels)\n",
        "end = time.time()\n",
        "print(\"Time:\", (end-start))\n",
        "print('Test accuracy:', test_acc)"
      ]
    },
    {
      "cell_type": "markdown",
      "metadata": {
        "deletable": false,
        "editable": false,
        "nbgrader": {
          "cell_type": "markdown",
          "checksum": "e7a4af344635132f318d2db5ac4305c0",
          "grade": false,
          "grade_id": "cell-c7f08300af4ff729",
          "locked": true,
          "points": 3,
          "schema_version": 3,
          "solution": false,
          "task": true
        },
        "tags": [],
        "id": "fbvUjcPcsSbw"
      },
      "source": [
        "c) (3 marks) Write your student number on paper and take a photo. How well are the individual digits recognized? (Hint: you need to convert the photo first into the desired format, and there are many ways to do this.  You are expected to read up on a suitable way yourself, and describe how you did it. Also upload the file of the photo with your solution, so that your notebook runs through. Use relative paths, when you refer to the photo file.\n",
        "\n"
      ]
    },
    {
      "cell_type": "code",
      "execution_count": null,
      "metadata": {
        "id": "1tHQwVSmsSbw",
        "outputId": "ecb8a94e-1fc1-4c6f-a7c1-3c08be3fd33b"
      },
      "outputs": [
        {
          "name": "stdout",
          "output_type": "stream",
          "text": [
            "<class 'numpy.ndarray'>\n",
            "<class 'numpy.ndarray'>\n",
            "(10000, 28, 28)\n",
            "(10000,)\n"
          ]
        }
      ],
      "source": [
        "print(type(test_images))\n",
        "print(type(test_labels))\n",
        "print(test_images.shape)\n",
        "print(test_labels.shape)"
      ]
    },
    {
      "cell_type": "code",
      "execution_count": null,
      "metadata": {
        "id": "e-5ib1casSbw",
        "outputId": "9746d6c6-b86c-47d3-d395-60692fb2f1d1"
      },
      "outputs": [
        {
          "name": "stdout",
          "output_type": "stream",
          "text": [
            "<class 'numpy.ndarray'>\n",
            "(9, 28, 28)\n"
          ]
        }
      ],
      "source": [
        "arr = [\"Image1.jpg\", \"Image2.jpg\", \"Image3.jpg\", \"Image4.jpg\", \"Image5.jpg\", \"Image6.jpg\", \"Image7.jpg\", \"Image8.jpg\", \"Image9.jpg\"]\n",
        "my_test = np.array([])\n",
        "for i in arr:\n",
        "    image = plt.imread(i)\n",
        "    tf_img = tf.convert_to_tensor(image)\n",
        "    resized_img = tf.image.resize(tf_img, [28, 28])\n",
        "    tf_gray_img = tf.image.rgb_to_grayscale(resized_img)\n",
        "    new_img = tf.squeeze(tf_gray_img, axis = -1)\n",
        "    final_img = new_img / 255\n",
        "    my_test = np.append(my_test, final_img)\n",
        "my_test = my_test.reshape(-1, 28, 28)\n",
        "print(type(my_test))\n",
        "print(my_test.shape)"
      ]
    },
    {
      "cell_type": "code",
      "execution_count": null,
      "metadata": {
        "id": "Ll3nYkiOsSbw",
        "outputId": "b7e0ccd7-fb85-4d56-8ee5-3ce646f653df"
      },
      "outputs": [
        {
          "ename": "TypeError",
          "evalue": "Only integers, slices (`:`), ellipsis (`...`), tf.newaxis (`None`) and scalar tf.int32/tf.int64 tensors are valid indices, got <tf.Tensor: shape=(28,), dtype=float32, numpy=\narray([0.99597883, 0.99534863, 0.9920576 , 0.99450845, 0.99597883,\n       0.9881365 , 0.9920576 , 0.99597883, 0.9920576 , 0.99597883,\n       0.99710864, 0.99597883, 0.99597883, 0.99597883, 0.99597883,\n       0.99597883, 0.98920816, 0.99597883, 0.99597883, 0.9920576 ,\n       0.99990004, 0.99597883, 0.99597883, 0.99597883, 0.9957688 ,\n       0.99597883, 0.99597883, 0.99597883], dtype=float32)>",
          "output_type": "error",
          "traceback": [
            "\u001b[0;31m---------------------------------------------------------------------------\u001b[0m",
            "\u001b[0;31mTypeError\u001b[0m                                 Traceback (most recent call last)",
            "Cell \u001b[0;32mIn[88], line 10\u001b[0m\n\u001b[1;32m      8\u001b[0m \u001b[38;5;28;01mfor\u001b[39;00m j \u001b[38;5;129;01min\u001b[39;00m i:\n\u001b[1;32m      9\u001b[0m     \u001b[38;5;28;01mif\u001b[39;00m j \u001b[38;5;241m>\u001b[39m\u001b[38;5;241m=\u001b[39m \u001b[38;5;241m0.8\u001b[39m:\n\u001b[0;32m---> 10\u001b[0m         \u001b[43mfinal_img\u001b[49m\u001b[43m[\u001b[49m\u001b[43mi\u001b[49m\u001b[43m]\u001b[49m[j] \u001b[38;5;241m=\u001b[39m \u001b[38;5;241m1\u001b[39m\n\u001b[1;32m     11\u001b[0m     \u001b[38;5;28;01melse\u001b[39;00m:\n\u001b[1;32m     12\u001b[0m         final_img[i][j] \u001b[38;5;241m=\u001b[39m \u001b[38;5;241m0\u001b[39m\n",
            "File \u001b[0;32m~/tfvenv/lib/python3.10/site-packages/tensorflow/python/util/traceback_utils.py:153\u001b[0m, in \u001b[0;36mfilter_traceback.<locals>.error_handler\u001b[0;34m(*args, **kwargs)\u001b[0m\n\u001b[1;32m    151\u001b[0m \u001b[38;5;28;01mexcept\u001b[39;00m \u001b[38;5;167;01mException\u001b[39;00m \u001b[38;5;28;01mas\u001b[39;00m e:\n\u001b[1;32m    152\u001b[0m   filtered_tb \u001b[38;5;241m=\u001b[39m _process_traceback_frames(e\u001b[38;5;241m.\u001b[39m__traceback__)\n\u001b[0;32m--> 153\u001b[0m   \u001b[38;5;28;01mraise\u001b[39;00m e\u001b[38;5;241m.\u001b[39mwith_traceback(filtered_tb) \u001b[38;5;28;01mfrom\u001b[39;00m \u001b[38;5;28;01mNone\u001b[39;00m\n\u001b[1;32m    154\u001b[0m \u001b[38;5;28;01mfinally\u001b[39;00m:\n\u001b[1;32m    155\u001b[0m   \u001b[38;5;28;01mdel\u001b[39;00m filtered_tb\n",
            "File \u001b[0;32m~/tfvenv/lib/python3.10/site-packages/tensorflow/python/ops/array_ops.py:961\u001b[0m, in \u001b[0;36m_check_index\u001b[0;34m(idx)\u001b[0m\n\u001b[1;32m    956\u001b[0m dtype \u001b[38;5;241m=\u001b[39m \u001b[38;5;28mgetattr\u001b[39m(idx, \u001b[38;5;124m\"\u001b[39m\u001b[38;5;124mdtype\u001b[39m\u001b[38;5;124m\"\u001b[39m, \u001b[38;5;28;01mNone\u001b[39;00m)\n\u001b[1;32m    957\u001b[0m \u001b[38;5;28;01mif\u001b[39;00m (dtype \u001b[38;5;129;01mis\u001b[39;00m \u001b[38;5;28;01mNone\u001b[39;00m \u001b[38;5;129;01mor\u001b[39;00m dtypes\u001b[38;5;241m.\u001b[39mas_dtype(dtype) \u001b[38;5;129;01mnot\u001b[39;00m \u001b[38;5;129;01min\u001b[39;00m _SUPPORTED_SLICE_DTYPES \u001b[38;5;129;01mor\u001b[39;00m\n\u001b[1;32m    958\u001b[0m     idx\u001b[38;5;241m.\u001b[39mshape \u001b[38;5;129;01mand\u001b[39;00m \u001b[38;5;28mlen\u001b[39m(idx\u001b[38;5;241m.\u001b[39mshape) \u001b[38;5;241m==\u001b[39m \u001b[38;5;241m1\u001b[39m):\n\u001b[1;32m    959\u001b[0m   \u001b[38;5;66;03m# TODO(slebedev): IndexError seems more appropriate here, but it\u001b[39;00m\n\u001b[1;32m    960\u001b[0m   \u001b[38;5;66;03m# will break `_slice_helper` contract.\u001b[39;00m\n\u001b[0;32m--> 961\u001b[0m   \u001b[38;5;28;01mraise\u001b[39;00m \u001b[38;5;167;01mTypeError\u001b[39;00m(_SLICE_TYPE_ERROR \u001b[38;5;241m+\u001b[39m \u001b[38;5;124m\"\u001b[39m\u001b[38;5;124m, got \u001b[39m\u001b[38;5;132;01m{!r}\u001b[39;00m\u001b[38;5;124m\"\u001b[39m\u001b[38;5;241m.\u001b[39mformat(idx))\n",
            "\u001b[0;31mTypeError\u001b[0m: Only integers, slices (`:`), ellipsis (`...`), tf.newaxis (`None`) and scalar tf.int32/tf.int64 tensors are valid indices, got <tf.Tensor: shape=(28,), dtype=float32, numpy=\narray([0.99597883, 0.99534863, 0.9920576 , 0.99450845, 0.99597883,\n       0.9881365 , 0.9920576 , 0.99597883, 0.9920576 , 0.99597883,\n       0.99710864, 0.99597883, 0.99597883, 0.99597883, 0.99597883,\n       0.99597883, 0.98920816, 0.99597883, 0.99597883, 0.9920576 ,\n       0.99990004, 0.99597883, 0.99597883, 0.99597883, 0.9957688 ,\n       0.99597883, 0.99597883, 0.99597883], dtype=float32)>"
          ]
        }
      ],
      "source": [
        "image = plt.imread(\"Image1.jpg\")\n",
        "tf_img = tf.convert_to_tensor(image)\n",
        "resized_img = tf.image.resize(tf_img, [28, 28])\n",
        "tf_gray_img = tf.image.rgb_to_grayscale(resized_img)\n",
        "new_img = tf.squeeze(tf_gray_img, axis = -1)\n",
        "final_img = new_img / 255\n",
        "for i in final_img:\n",
        "    for j in i:\n",
        "        if j >= 0.8:\n",
        "            final_img[i][j] = 1\n",
        "        else:\n",
        "            final_img[i][j] = 0\n",
        "final_img[0][0]"
      ]
    },
    {
      "cell_type": "code",
      "execution_count": null,
      "metadata": {
        "id": "vxV80ccQsSbw",
        "outputId": "9a482797-b610-4152-9131-e31e4029c37a"
      },
      "outputs": [
        {
          "data": {
            "text/plain": [
              "<matplotlib.image.AxesImage at 0x7fa109a2d720>"
            ]
          },
          "execution_count": 46,
          "metadata": {},
          "output_type": "execute_result"
        },
        {
          "data": {
            "image/png": "[encoded data removed]",
            "text/plain": [
              "<Figure size 640x480 with 1 Axes>"
            ]
          },
          "metadata": {},
          "output_type": "display_data"
        }
      ],
      "source": [
        "arr = [\"Image1.jpg\", \"Image2.jpg\", \"Image3.jpg\", \"Image4.jpg\", \"Image5.jpg\", \"Image6.jpg\", \"Image7.jpg\", \"Image8.jpg\", \"Image9.jpg\"]\n",
        "my_data = np.array([])\n",
        "for i in arr:\n",
        "    image = plt.imread(i)\n",
        "    tf_img = tf.convert_to_tensor(image)\n",
        "    resized_img = tf.image.resize(tf_img, [28, 28])\n",
        "    tf_gray_img = tf.image.rgb_to_grayscale(resized_img)\n",
        "    new_img = tf.squeeze(tf_gray_img, axis = -1)\n",
        "    final_img = new_img / 255\n",
        "    np_final_img = np.array(final_img)\n",
        "    for j in range(np_final_img.shape[0]):\n",
        "        for k in range(np_final_img.shape[1]):\n",
        "            if np_final_img[j][k] >= 0.9:\n",
        "                np_final_img[j][k] = 0\n",
        "            else:\n",
        "                np_final_img[j][k] = 1\n",
        "    my_data = np.append(my_data, np_final_img)\n",
        "my_data = my_data.reshape(-1, 28, 28)\n",
        "\n",
        "plt.imshow(my_data[8], cmap = \"grey\")"
      ]
    },
    {
      "cell_type": "code",
      "execution_count": null,
      "metadata": {
        "id": "80BvFIZHsSbw",
        "outputId": "13d495c1-bda0-4ab6-85a0-a137257d58d0"
      },
      "outputs": [
        {
          "data": {
            "text/plain": [
              "<matplotlib.image.AxesImage at 0x7fa109b265c0>"
            ]
          },
          "execution_count": 45,
          "metadata": {},
          "output_type": "execute_result"
        },
        {
          "data": {
            "image/png": "[encoded data removed]",
            "text/plain": [
              "<Figure size 640x480 with 1 Axes>"
            ]
          },
          "metadata": {},
          "output_type": "display_data"
        }
      ],
      "source": [
        "plt.imshow(test_images[1], cmap = \"grey\")"
      ]
    },
    {
      "cell_type": "code",
      "execution_count": null,
      "metadata": {
        "id": "29HyJAv7sSbw",
        "outputId": "3a3fceb6-8784-4de9-c5ea-fad1323ad23c"
      },
      "outputs": [
        {
          "name": "stdout",
          "output_type": "stream",
          "text": [
            "<class 'numpy.ndarray'>\n",
            "(9,)\n"
          ]
        }
      ],
      "source": [
        "my_labels = np.array([1, 2, 3, 1, 1, 8, 5, 2, 8])\n",
        "print(type(my_labels))\n",
        "print(my_labels.shape)"
      ]
    },
    {
      "cell_type": "code",
      "execution_count": null,
      "metadata": {
        "id": "MoKU5IussSbx",
        "outputId": "286b217f-a53b-45a4-e25d-e9ceac862459"
      },
      "outputs": [
        {
          "name": "stdout",
          "output_type": "stream",
          "text": [
            "Epoch 1/5\n",
            "600/600 [==============================] - 7s 11ms/step - loss: 0.2014 - accuracy: 0.9384\n",
            "Epoch 2/5\n",
            "600/600 [==============================] - 7s 11ms/step - loss: 0.0812 - accuracy: 0.9745\n",
            "Epoch 3/5\n",
            "600/600 [==============================] - 7s 11ms/step - loss: 0.0542 - accuracy: 0.9829\n",
            "Epoch 4/5\n",
            "600/600 [==============================] - 7s 11ms/step - loss: 0.0397 - accuracy: 0.9870\n",
            "Epoch 5/5\n",
            "600/600 [==============================] - 7s 11ms/step - loss: 0.0328 - accuracy: 0.9893\n",
            "1/1 [==============================] - 0s 91ms/step - loss: 1.3657 - accuracy: 0.6667\n",
            "Time: 34.18513107299805\n",
            "Test accuracy: 0.6666666865348816\n"
          ]
        }
      ],
      "source": [
        "model = tf.keras.Sequential([\n",
        "    tf.keras.layers.Flatten(input_shape=(28, 28)),\n",
        "    tf.keras.layers.Dense(768, activation=tf.nn.relu),\n",
        "    tf.keras.layers.Dense(512, activation=tf.nn.relu),\n",
        "    tf.keras.layers.Dense(128, activation=tf.nn.relu),\n",
        "    tf.keras.layers.Dense(10, activation=tf.nn.softmax)\n",
        "\n",
        "])\n",
        "\n",
        "model.compile(optimizer=tf.keras.optimizers.Adam(),\n",
        "              loss='sparse_categorical_crossentropy',\n",
        "              metrics=['accuracy'])\n",
        "\n",
        "start = time.time()\n",
        "model.fit(train_images, train_labels, epochs=5, batch_size = 100)\n",
        "\n",
        "test_loss, test_acc = model.evaluate(my_data, my_labels)\n",
        "end = time.time()\n",
        "print(\"Time:\", (end-start))\n",
        "print('Test accuracy:', test_acc)"
      ]
    },
    {
      "cell_type": "markdown",
      "metadata": {
        "deletable": false,
        "editable": false,
        "nbgrader": {
          "cell_type": "markdown",
          "checksum": "286c5b2f24597a81fc945d8492c914f9",
          "grade": false,
          "grade_id": "cell-bbad7f0cbc43fccf",
          "locked": true,
          "points": 10,
          "schema_version": 3,
          "solution": false,
          "task": true
        },
        "tags": [],
        "id": "gMXUnNrtsSbx"
      },
      "source": [
        "# Q2 The Reuters newswire data\n",
        "\n",
        "(10 points)\n",
        "\n",
        "Consider the data in  `tensorflow.keras.datasets.reuters` and train a network which reliably categorizes the newswires.  \n",
        "\n",
        "Hints:\n",
        "- some general explanations of all the datasets included in Keras is here: https://keras.io/datasets/\n",
        "After `from tensorflow.keras.datasets import reuters` you can get the dataset and the word index with through `reuters.get_word_index()` and `reuters.load_data()`.  The training labels correspond to different topics for each newswire.  The list of topics can be found here: https://github.com/keras-team/keras/issues/12072.\n",
        "- Always look at your data, before you feed it into a network!\n",
        "- Coherence of presentation is key.  Provide explanations of what you are doing and why you are doing it.\n",
        "- Note that it is expected and allowed to obtain inspiration for solving this task from the Internet. However, all sources need to be clearly cited!  \n",
        "- Provide coherent explanations on what improves performance or not.\n",
        "- Code without explanation will not yield points.\n",
        "\n"
      ]
    },
    {
      "cell_type": "markdown",
      "metadata": {
        "id": "CDWuiw_-sSbx"
      },
      "source": [
        "The following model generates a neural networks that can reliably categorise the test data into one of the 46 classes with an accuracy of ~74% within ~20s. The model uses a softmax layer of 46 nodes to assign a probabilistic distribution to each of the 46 nodes. The sparse categorical crossentropy loss function can then attribute this to one of the corresponding 46 labels to improve them model. Sparse categorical crossentropy was used because it is a multi-class loss function that expects the labels to be integer values (which they are in this case) rather than one-hot representation. The batch size was set to 24 as this produces the optimal accuracy and does not compromise the computational time. The epoch was set to 50 as this provided the highest accuracy without overfitting the model. After ~100 epochs the model would begin to overfit decreasing the accuracy of the model. There was little to no improvement in accuracy between 50-100 but the computational time increased, therefore, 50 has been chosen as the parameter for epoch. The padding size was set to 256 as increasing this value led to overfitting as the model could not generalise patterns as well leading to greater selection of incorrect labeling (i.e. accuracy decrease). Using lower values for padding also resulted in a similar decrease in a accuracy as there was less data to use to select accurate patterns that represent the category. Values of similar size to 256 (i.e. 200-300) had no substantial effect on either the accuracy nor computational time. The vocab size was selected as 10000 as this provided an increase in accuracy without substantially increasing the computational time. Setting the vocab as >35000 let to overfitting on the model and therefore decreased the accuracy of the model. The size of the validation dataset was 2500 leaving the training dataset with a size of 6482. Increasing the validation set past 3000 saw a significant decrease in accuracy with little improvement for computational time. This is because there is a smaller dataset being used for training the dataset which reduces the ability of the neural networks to learn the patterns needed to identify the classification. Decreasing it below 2500 saw little to no improvement in accuracy but computational time continued to increase, therefore 2500 will be used. The model consisted of a embedding layer(10000, 16), global layer, a dense layer(16, relu) and another dense layer(46, softmax). These were used as any additional layers or nodes resulted in little to no increase in accuracy while increasing the computational time. Reducing the layers or nodes resulted in a significant decrease in accuracy withi only a marginal decrease in computational time.\n",
        "\n",
        "The loss and accuracy of the model are plotted below to indicate the efficiency and suitability of the model for classification."
      ]
    },
    {
      "cell_type": "code",
      "execution_count": null,
      "metadata": {
        "id": "yYv6oQBGsSbx",
        "outputId": "fdd19c08-f17f-47d3-85cb-c86309a6d9ef"
      },
      "outputs": [
        {
          "name": "stdout",
          "output_type": "stream",
          "text": [
            "Model: \"sequential_64\"\n",
            "_________________________________________________________________\n",
            " Layer (type)                Output Shape              Param #   \n",
            "=================================================================\n",
            " embedding_61 (Embedding)    (None, None, 16)          160000    \n",
            "                                                                 \n",
            " global_average_pooling1d_6  (None, 16)                0         \n",
            " 1 (GlobalAveragePooling1D)                                      \n",
            "                                                                 \n",
            " dense_136 (Dense)           (None, 16)                272       \n",
            "                                                                 \n",
            " dense_137 (Dense)           (None, 46)                782       \n",
            "                                                                 \n",
            "=================================================================\n",
            "Total params: 161054 (629.12 KB)\n",
            "Trainable params: 161054 (629.12 KB)\n",
            "Non-trainable params: 0 (0.00 Byte)\n",
            "_________________________________________________________________\n",
            "Epoch 1/50\n",
            "271/271 [==============================] - 1s 2ms/step - loss: 2.9247 - acc: 0.2677 - val_loss: 2.3108 - val_acc: 0.3464\n",
            "Epoch 2/50\n",
            "271/271 [==============================] - 0s 1ms/step - loss: 2.2235 - acc: 0.3596 - val_loss: 2.1662 - val_acc: 0.3720\n",
            "Epoch 3/50\n",
            "271/271 [==============================] - 0s 1ms/step - loss: 2.0512 - acc: 0.4062 - val_loss: 2.0107 - val_acc: 0.4360\n",
            "Epoch 4/50\n",
            "271/271 [==============================] - 0s 1ms/step - loss: 1.9015 - acc: 0.4861 - val_loss: 1.8938 - val_acc: 0.5352\n",
            "Epoch 5/50\n",
            "271/271 [==============================] - 0s 1ms/step - loss: 1.7762 - acc: 0.5491 - val_loss: 1.7918 - val_acc: 0.5504\n",
            "Epoch 6/50\n",
            "271/271 [==============================] - 0s 1ms/step - loss: 1.6642 - acc: 0.5736 - val_loss: 1.6990 - val_acc: 0.5740\n",
            "Epoch 7/50\n",
            "271/271 [==============================] - 0s 1ms/step - loss: 1.5632 - acc: 0.6085 - val_loss: 1.6310 - val_acc: 0.6076\n",
            "Epoch 8/50\n",
            "271/271 [==============================] - 0s 2ms/step - loss: 1.4879 - acc: 0.6319 - val_loss: 1.5836 - val_acc: 0.6328\n",
            "Epoch 9/50\n",
            "271/271 [==============================] - 0s 1ms/step - loss: 1.4286 - acc: 0.6591 - val_loss: 1.5472 - val_acc: 0.6420\n",
            "Epoch 10/50\n",
            "271/271 [==============================] - 0s 1ms/step - loss: 1.3753 - acc: 0.6726 - val_loss: 1.5178 - val_acc: 0.6452\n",
            "Epoch 11/50\n",
            "271/271 [==============================] - 0s 1ms/step - loss: 1.3280 - acc: 0.6901 - val_loss: 1.4854 - val_acc: 0.6552\n",
            "Epoch 12/50\n",
            "271/271 [==============================] - 0s 1ms/step - loss: 1.2836 - acc: 0.6972 - val_loss: 1.4680 - val_acc: 0.6592\n",
            "Epoch 13/50\n",
            "271/271 [==============================] - 0s 1ms/step - loss: 1.2402 - acc: 0.7067 - val_loss: 1.4466 - val_acc: 0.6712\n",
            "Epoch 14/50\n",
            "271/271 [==============================] - 0s 1ms/step - loss: 1.2008 - acc: 0.7131 - val_loss: 1.4274 - val_acc: 0.6712\n",
            "Epoch 15/50\n",
            "271/271 [==============================] - 0s 1ms/step - loss: 1.1621 - acc: 0.7157 - val_loss: 1.4147 - val_acc: 0.6744\n",
            "Epoch 16/50\n",
            "271/271 [==============================] - 0s 1ms/step - loss: 1.1251 - acc: 0.7228 - val_loss: 1.3988 - val_acc: 0.6776\n",
            "Epoch 17/50\n",
            "271/271 [==============================] - 0s 1ms/step - loss: 1.0879 - acc: 0.7286 - val_loss: 1.3853 - val_acc: 0.6816\n",
            "Epoch 18/50\n",
            "271/271 [==============================] - 0s 1ms/step - loss: 1.0527 - acc: 0.7351 - val_loss: 1.3727 - val_acc: 0.6856\n",
            "Epoch 19/50\n",
            "271/271 [==============================] - 0s 1ms/step - loss: 1.0172 - acc: 0.7422 - val_loss: 1.3619 - val_acc: 0.6900\n",
            "Epoch 20/50\n",
            "271/271 [==============================] - 0s 1ms/step - loss: 0.9821 - acc: 0.7522 - val_loss: 1.3504 - val_acc: 0.6920\n",
            "Epoch 21/50\n",
            "271/271 [==============================] - 0s 2ms/step - loss: 0.9487 - acc: 0.7600 - val_loss: 1.3433 - val_acc: 0.6936\n",
            "Epoch 22/50\n",
            "271/271 [==============================] - 0s 2ms/step - loss: 0.9153 - acc: 0.7695 - val_loss: 1.3358 - val_acc: 0.7044\n",
            "Epoch 23/50\n",
            "271/271 [==============================] - 0s 1ms/step - loss: 0.8812 - acc: 0.7802 - val_loss: 1.3247 - val_acc: 0.7052\n",
            "Epoch 24/50\n",
            "271/271 [==============================] - 0s 1ms/step - loss: 0.8487 - acc: 0.7888 - val_loss: 1.3199 - val_acc: 0.7088\n",
            "Epoch 25/50\n",
            "271/271 [==============================] - 0s 1ms/step - loss: 0.8156 - acc: 0.7994 - val_loss: 1.3076 - val_acc: 0.7148\n",
            "Epoch 26/50\n",
            "271/271 [==============================] - 0s 1ms/step - loss: 0.7827 - acc: 0.8062 - val_loss: 1.2993 - val_acc: 0.7176\n",
            "Epoch 27/50\n",
            "271/271 [==============================] - 0s 1ms/step - loss: 0.7508 - acc: 0.8121 - val_loss: 1.2938 - val_acc: 0.7220\n",
            "Epoch 28/50\n",
            "271/271 [==============================] - 0s 1ms/step - loss: 0.7204 - acc: 0.8193 - val_loss: 1.2926 - val_acc: 0.7236\n",
            "Epoch 29/50\n",
            "271/271 [==============================] - 0s 1ms/step - loss: 0.6887 - acc: 0.8278 - val_loss: 1.2824 - val_acc: 0.7256\n",
            "Epoch 30/50\n",
            "271/271 [==============================] - 0s 1ms/step - loss: 0.6611 - acc: 0.8345 - val_loss: 1.2832 - val_acc: 0.7288\n",
            "Epoch 31/50\n",
            "271/271 [==============================] - 0s 1ms/step - loss: 0.6337 - acc: 0.8406 - val_loss: 1.2814 - val_acc: 0.7304\n",
            "Epoch 32/50\n",
            "271/271 [==============================] - 0s 1ms/step - loss: 0.6060 - acc: 0.8485 - val_loss: 1.2841 - val_acc: 0.7336\n",
            "Epoch 33/50\n",
            "271/271 [==============================] - 0s 1ms/step - loss: 0.5811 - acc: 0.8536 - val_loss: 1.2845 - val_acc: 0.7400\n",
            "Epoch 34/50\n",
            "271/271 [==============================] - 0s 2ms/step - loss: 0.5576 - acc: 0.8598 - val_loss: 1.2848 - val_acc: 0.7448\n",
            "Epoch 35/50\n",
            "271/271 [==============================] - 0s 1ms/step - loss: 0.5363 - acc: 0.8642 - val_loss: 1.2907 - val_acc: 0.7420\n",
            "Epoch 36/50\n",
            "271/271 [==============================] - 0s 1ms/step - loss: 0.5142 - acc: 0.8683 - val_loss: 1.2904 - val_acc: 0.7456\n",
            "Epoch 37/50\n",
            "271/271 [==============================] - 0s 1ms/step - loss: 0.4932 - acc: 0.8712 - val_loss: 1.3070 - val_acc: 0.7412\n",
            "Epoch 38/50\n",
            "271/271 [==============================] - 0s 1ms/step - loss: 0.4748 - acc: 0.8786 - val_loss: 1.3030 - val_acc: 0.7472\n",
            "Epoch 39/50\n",
            "271/271 [==============================] - 0s 1ms/step - loss: 0.4555 - acc: 0.8832 - val_loss: 1.3137 - val_acc: 0.7480\n",
            "Epoch 40/50\n",
            "271/271 [==============================] - 0s 2ms/step - loss: 0.4384 - acc: 0.8885 - val_loss: 1.3298 - val_acc: 0.7476\n",
            "Epoch 41/50\n",
            "271/271 [==============================] - 0s 1ms/step - loss: 0.4221 - acc: 0.8917 - val_loss: 1.3314 - val_acc: 0.7484\n",
            "Epoch 42/50\n",
            "271/271 [==============================] - 0s 1ms/step - loss: 0.4053 - acc: 0.8965 - val_loss: 1.3380 - val_acc: 0.7508\n",
            "Epoch 43/50\n",
            "271/271 [==============================] - 0s 1ms/step - loss: 0.3899 - acc: 0.8996 - val_loss: 1.3577 - val_acc: 0.7504\n",
            "Epoch 44/50\n",
            "271/271 [==============================] - 0s 1ms/step - loss: 0.3751 - acc: 0.9048 - val_loss: 1.3577 - val_acc: 0.7544\n",
            "Epoch 45/50\n",
            "271/271 [==============================] - 0s 1ms/step - loss: 0.3602 - acc: 0.9121 - val_loss: 1.3657 - val_acc: 0.7524\n",
            "Epoch 46/50\n",
            "271/271 [==============================] - 0s 1ms/step - loss: 0.3463 - acc: 0.9121 - val_loss: 1.3761 - val_acc: 0.7556\n",
            "Epoch 47/50\n",
            "271/271 [==============================] - 0s 1ms/step - loss: 0.3340 - acc: 0.9161 - val_loss: 1.3888 - val_acc: 0.7564\n",
            "Epoch 48/50\n",
            "271/271 [==============================] - 0s 1ms/step - loss: 0.3204 - acc: 0.9195 - val_loss: 1.3969 - val_acc: 0.7568\n",
            "Epoch 49/50\n",
            "271/271 [==============================] - 0s 1ms/step - loss: 0.3078 - acc: 0.9230 - val_loss: 1.4175 - val_acc: 0.7552\n",
            "Epoch 50/50\n",
            "271/271 [==============================] - 0s 2ms/step - loss: 0.2978 - acc: 0.9266 - val_loss: 1.4299 - val_acc: 0.7580\n",
            "71/71 [==============================] - 0s 644us/step - loss: 1.4803 - acc: 0.7498\n",
            "Time: 20.137078046798706\n"
          ]
        }
      ],
      "source": [
        "vocab_size = 10000\n",
        "\n",
        "# Creating a word and reverse word index for the reuters dataset\n",
        "\n",
        "reuters = tf.keras.datasets.reuters\n",
        "word_index = reuters.get_word_index()\n",
        "\n",
        "for k in word_index:\n",
        "    word_index[k] += 3\n",
        "word_index[\"<PAD>\"] = 0\n",
        "word_index[\"<START>\"] = 1\n",
        "word_index[\"<UNK>\"] = 2  # unknown\n",
        "word_index[\"<UNUSED>\"] = 3\n",
        "\n",
        "reverse_word_index = {word_index[k]: k for k in word_index}\n",
        "\n",
        "# Pad sequences using word_index\n",
        "(train_data, train_labels), (test_data, test_labels) = reuters.load_data(num_words=vocab_size)\n",
        "train_data = tf.keras.preprocessing.sequence.pad_sequences(train_data, value=word_index[\"<PAD>\"], padding='post', maxlen=256)\n",
        "test_data = tf.keras.preprocessing.sequence.pad_sequences(test_data, value=word_index[\"<PAD>\"], padding='post', maxlen=256)\n",
        "\n",
        "# The model\n",
        "model = tf.keras.Sequential([\n",
        "    tf.keras.layers.Embedding(vocab_size, 16),\n",
        "    tf.keras.layers.GlobalAveragePooling1D(),\n",
        "    tf.keras.layers.Dense(16, activation=tf.nn.relu),\n",
        "    tf.keras.layers.Dense(46, activation=tf.nn.softmax)\n",
        "])\n",
        "\n",
        "model.summary()\n",
        "\n",
        "model.compile(optimizer=tf.optimizers.Adam(),\n",
        "              loss=\"sparse_categorical_crossentropy\",\n",
        "              metrics=['acc'])\n",
        "\n",
        "train_N = 2500\n",
        "x_val = train_data[:train_N]\n",
        "partial_x_train = train_data[train_N:]\n",
        "\n",
        "y_val = train_labels[:train_N]\n",
        "partial_y_train = train_labels[train_N:]\n",
        "\n",
        "start = time.time()\n",
        "history = model.fit(partial_x_train, partial_y_train, epochs=50,\n",
        "                    batch_size=24, validation_data=(x_val, y_val), verbose=1)\n",
        "\n",
        "model.evaluate(test_data, test_labels)\n",
        "end = time.time()\n",
        "print(\"Time:\", (end-start))"
      ]
    },
    {
      "cell_type": "code",
      "execution_count": null,
      "metadata": {
        "id": "Mh7R81Z-sSby",
        "outputId": "2377af63-af4c-4abf-8aa6-aafa98bc4138"
      },
      "outputs": [
        {
          "data": {
            "text/plain": [
              "<matplotlib.legend.Legend at 0x7fce30c6f760>"
            ]
          },
          "execution_count": 143,
          "metadata": {},
          "output_type": "execute_result"
        },
        {
          "data": {
            "image/png": "[encoded data removed]",
            "text/plain": [
              "<Figure size 640x480 with 1 Axes>"
            ]
          },
          "metadata": {},
          "output_type": "display_data"
        }
      ],
      "source": [
        "\n",
        "acc = history.history['acc']\n",
        "val_acc = history.history['val_acc']\n",
        "loss = history.history['loss']\n",
        "val_loss = history.history['val_loss']\n",
        "\n",
        "epochs = history.epoch\n",
        "\n",
        "# \"bo\" is for \"blue dot\"\n",
        "plt.plot(epochs, loss, 'bo', label='Training loss')\n",
        "# b is for \"solid blue line\"\n",
        "plt.plot(epochs, val_loss, 'b', label='Validation loss')\n",
        "plt.title('Training and validation loss')\n",
        "plt.xlabel('Epochs')\n",
        "plt.ylabel('Loss')\n",
        "plt.legend()"
      ]
    },
    {
      "cell_type": "code",
      "execution_count": null,
      "metadata": {
        "id": "3mpSA2G3sSby",
        "outputId": "ec07ef6c-967f-462d-b2cf-45b52a4e2b14"
      },
      "outputs": [
        {
          "data": {
            "text/plain": [
              "<matplotlib.legend.Legend at 0x7fce30c6d6f0>"
            ]
          },
          "execution_count": 144,
          "metadata": {},
          "output_type": "execute_result"
        },
        {
          "data": {
            "image/png": "[encoded data removed]",
            "text/plain": [
              "<Figure size 640x480 with 1 Axes>"
            ]
          },
          "metadata": {},
          "output_type": "display_data"
        }
      ],
      "source": [
        "plt.plot(epochs, acc, 'bo', label='Training acc')\n",
        "plt.plot(epochs, val_acc, 'b', label='Validation acc')\n",
        "plt.title('Training and validation accuracy')\n",
        "plt.xlabel('Epochs')\n",
        "plt.ylabel('Accuracy')\n",
        "plt.legend()"
      ]
    }
  ],
  "metadata": {
    "kernelspec": {
      "display_name": "tfvenv",
      "language": "python",
      "name": "tfvenv"
    },
    "language_info": {
      "codemirror_mode": {
        "name": "ipython",
        "version": 3
      },
      "file_extension": ".py",
      "mimetype": "text/x-python",
      "name": "python",
      "nbconvert_exporter": "python",
      "pygments_lexer": "ipython3",
      "version": "3.10.12"
    },
    "colab": {
      "provenance": []
    }
  },
  "nbformat": 4,
  "nbformat_minor": 0
}