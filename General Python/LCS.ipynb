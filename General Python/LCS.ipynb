{
  "cells": [
    {
      "cell_type": "code",
      "execution_count": null,
      "id": "298620be",
      "metadata": {
        "id": "298620be",
        "outputId": "e76bf2f6-af15-4daf-b8fc-8972a404a3e1"
      },
      "outputs": [
        {
          "data": {
            "text/plain": [
              "6"
            ]
          },
          "execution_count": 12,
          "metadata": {},
          "output_type": "execute_result"
        }
      ],
      "source": [
        "def len_lcs(X, Y):\n",
        "    if len(X) == 0 or len(Y) == 0:\n",
        "        return 0\n",
        "    elif X[-1] == Y[-1]:\n",
        "        return 1 + lcs(X[:-1], Y[:-1])\n",
        "    else:\n",
        "        return max(lcs(X, Y[:-1]), lcs(X[:-1], Y))\n",
        "\n",
        "len_lcs(\"GTTCCTAATA\", \"CGATAATTGAGA\")"
      ]
    },
    {
      "cell_type": "code",
      "execution_count": null,
      "id": "ab9a20f8",
      "metadata": {
        "id": "ab9a20f8",
        "outputId": "a8d58f61-55f1-4f72-b066-6ae33fd1f9ca"
      },
      "outputs": [
        {
          "data": {
            "text/plain": [
              "'GTTTAA'"
            ]
          },
          "execution_count": 39,
          "metadata": {},
          "output_type": "execute_result"
        }
      ],
      "source": [
        "def lcs(X, Y):\n",
        "    if len(X) == 0 or len(Y) == 0:\n",
        "        return \"\"\n",
        "    elif X[-1] == Y[-1]:\n",
        "        return X[-1] + lcs(X[:-1], Y[:-1])\n",
        "    else:\n",
        "        if len(lcs(X, Y[:-1])) > len(lcs(X[:-1], Y)):\n",
        "            return lcs(X, Y[:-1])\n",
        "        else:\n",
        "            return lcs(X[:-1], Y)\n",
        "\n",
        "lcs(\"GTTCCTAATA\", \"CGATAATTGAGA\")[::-1]"
      ]
    },
    {
      "cell_type": "code",
      "execution_count": null,
      "id": "dc9840fc",
      "metadata": {
        "id": "dc9840fc",
        "outputId": "db4ea426-debb-4b7e-9778-317ce32fab07"
      },
      "outputs": [
        {
          "data": {
            "text/plain": [
              "'CTAATA'"
            ]
          },
          "execution_count": 33,
          "metadata": {},
          "output_type": "execute_result"
        }
      ],
      "source": [
        "def lcs(X, Y):\n",
        "    if len(X) == 0 or len(Y) == 0:\n",
        "        return \"\"\n",
        "    elif X[0] == Y[0]:\n",
        "        return X[0] + lcs(X[1:], Y[1:])\n",
        "    else:\n",
        "        if len(lcs(X, Y[1:])) > len(lcs(X[1:], Y)):\n",
        "            return lcs(X, Y[1:])\n",
        "        else:\n",
        "            return lcs(X[1:], Y)\n",
        "\n",
        "lcs(\"GTTCCTAATA\", \"CGATAATTGAGA\")"
      ]
    },
    {
      "cell_type": "code",
      "execution_count": null,
      "id": "06a3324f",
      "metadata": {
        "id": "06a3324f",
        "outputId": "97e0182d-5b8a-412c-9c8d-ef2776f1a278"
      },
      "outputs": [
        {
          "data": {
            "text/plain": [
              "'AATTTG'"
            ]
          },
          "execution_count": 53,
          "metadata": {},
          "output_type": "execute_result"
        }
      ],
      "source": [
        "def mem_lcs(X, Y, mem = {}):\n",
        "    if (len(X), len(Y)) in mem:\n",
        "        return mem[(len(X), len(Y))]\n",
        "    elif len(X) == 0 or len(Y) == 0:\n",
        "        mem[len(X), len(Y)] = \"\"\n",
        "    elif X[-1] == Y[-1]:\n",
        "        mem[len(X), len(Y)] = X[-1] + mem_lcs(X[:-1], Y[:-1], mem)\n",
        "    else:\n",
        "        if len(mem_lcs(X, Y[:-1], mem)) > len(mem_lcs(X[:-1], Y, mem)):\n",
        "            mem[len(X), len(Y)] = mem_lcs(X, Y[:-1], mem)\n",
        "        else:\n",
        "            mem[len(X), len(Y)] = mem_lcs(X[:-1], Y, mem)\n",
        "    return mem[len(X), len(Y)]\n",
        "\n",
        "mem_lcs(\"GTTCCTAATA\", \"CGATAATTGAGA\")"
      ]
    },
    {
      "cell_type": "code",
      "execution_count": null,
      "id": "95437b29",
      "metadata": {
        "id": "95437b29"
      },
      "outputs": [],
      "source": [
        "def LCS(X,Y):\n",
        "    M,N = len(X),len(Y)\n",
        "    L = [[0]* (N+1) for k in range(M+1)]\n",
        "    for j in range(M):\n",
        "        for k in range(N):\n",
        "            if X[j] == Y[k]:\n",
        "                L[j+1][k+1] = L[j][k]+1\n",
        "            else:\n",
        "                L[j+1][k+1] = max(L[j][k+1],L[j+1][k])\n",
        "    return L[M][N]\n",
        "\n",
        "def LCS_table(X,Y):\n",
        "    M,N = len(X),len(Y)\n",
        "    L = [[0]* (N+1) for k in range(M+1)]\n",
        "    for j in range(M):\n",
        "        for k in range(N):\n",
        "            if X[j] == Y[k]:\n",
        "                L[j+1][k+1] = L[j][k]+1\n",
        "            else:\n",
        "                L[j+1][k+1] = max(L[j][k+1],L[j+1][k])\n",
        "    return L\n",
        "\n",
        "def LCS_solution(X,Y,L):\n",
        "    solution = [ ]\n",
        "    j,k = len(X),len(Y)\n",
        "    while L[j][k] > 0:\n",
        "        if X[j-1] == Y[k-1]:\n",
        "            solution.append(X[j-1])\n",
        "            j -= 1\n",
        "            k -= 1\n",
        "        elif L[j-1][k] >= L[j][k-1]:\n",
        "            j -= 1\n",
        "        else:\n",
        "            k -= 1\n",
        "    return \" \".join(reversed(solution))"
      ]
    },
    {
      "cell_type": "code",
      "execution_count": null,
      "id": "ba90d272",
      "metadata": {
        "id": "ba90d272",
        "outputId": "9daa4e25-8434-4035-e81a-8a7ba73a5a45"
      },
      "outputs": [
        {
          "name": "stdout",
          "output_type": "stream",
          "text": [
            "[[0, 0, 0, 0, 0, 0, 0, 0, 0, 0, 0, 0, 0], [0, 0, 1, 1, 1, 1, 1, 1, 1, 1, 1, 1, 1], [0, 0, 1, 1, 2, 2, 2, 2, 2, 2, 2, 2, 2], [0, 0, 1, 1, 2, 2, 2, 3, 3, 3, 3, 3, 3], [0, 1, 1, 1, 2, 2, 2, 3, 3, 3, 3, 3, 3], [0, 1, 1, 1, 2, 2, 2, 3, 3, 3, 3, 3, 3], [0, 1, 1, 1, 2, 2, 2, 3, 4, 4, 4, 4, 4], [0, 1, 1, 2, 2, 3, 3, 3, 4, 4, 5, 5, 5], [0, 1, 1, 2, 2, 3, 4, 4, 4, 4, 5, 5, 6], [0, 1, 1, 2, 3, 3, 4, 5, 5, 5, 5, 5, 6], [0, 1, 1, 2, 3, 4, 4, 5, 5, 5, 6, 6, 6]]\n"
          ]
        },
        {
          "data": {
            "text/plain": [
              "'G T T T A A'"
            ]
          },
          "execution_count": 14,
          "metadata": {},
          "output_type": "execute_result"
        }
      ],
      "source": [
        "X = [\"G\",\"T\",\"T\",\"C\",\"C\",\"T\",\"A\",\"A\",\"T\",\"A\"]\n",
        "Y = [\"C\",\"G\",\"A\",\"T\",\"A\",\"A\",\"T\",\"T\",\"G\",\"A\",\"G\",\"A\"]\n",
        "A = [\"A\", \"A\", \"A\", \"B\"]\n",
        "B = [\"B\", \"A\", \"A\", \"B\"]\n",
        "L = LCS_table(X,Y)\n",
        "print(L)\n",
        "LCS_solution(X,Y,L)"
      ]
    },
    {
      "cell_type": "code",
      "execution_count": null,
      "id": "c73951a4",
      "metadata": {
        "id": "c73951a4",
        "outputId": "dd6aff31-c038-4da7-f0d7-cd9d2ff10566"
      },
      "outputs": [
        {
          "data": {
            "text/plain": [
              "5"
            ]
          },
          "execution_count": 25,
          "metadata": {},
          "output_type": "execute_result"
        }
      ],
      "source": [
        "def count_lps(word):\n",
        "    if len(word) < 2:\n",
        "        return 1\n",
        "    elif len(word) == 2:\n",
        "        if word[0] == word[-1]:\n",
        "            return 2\n",
        "        else:\n",
        "            return 1\n",
        "    elif word[0] == word[-1]:\n",
        "        return 2 + count_lps(word[1:-1])\n",
        "    else:\n",
        "        return count_lps(word[:-1])\n",
        "\n",
        "count_lps(\"ABABRA\")"
      ]
    },
    {
      "cell_type": "code",
      "execution_count": null,
      "id": "fa089a2e",
      "metadata": {
        "id": "fa089a2e",
        "outputId": "b623989a-6d05-456c-c17e-1863191e9b1f"
      },
      "outputs": [
        {
          "data": {
            "text/plain": [
              "'ABABA'"
            ]
          },
          "execution_count": 21,
          "metadata": {},
          "output_type": "execute_result"
        }
      ],
      "source": [
        "def lcs_pal(word):\n",
        "    if len(word) < 2:\n",
        "        return word\n",
        "    elif len(word) == 2:\n",
        "        if word[0] == word[-1]:\n",
        "            return word\n",
        "        else:\n",
        "            return word[0]\n",
        "    elif word[0] == word[-1]:\n",
        "        return word[0] + lcs_pal(word[1:-1]) + word[-1]\n",
        "    else:\n",
        "        return lcs_pal(word[:-1])\n",
        "\n",
        "lcs_pal(\"ABABRA\")"
      ]
    },
    {
      "cell_type": "code",
      "execution_count": null,
      "id": "8fc1ae35",
      "metadata": {
        "id": "8fc1ae35",
        "outputId": "10c7f2e7-fbcb-4ddb-d021-1a5c7315d94f"
      },
      "outputs": [
        {
          "name": "stdout",
          "output_type": "stream",
          "text": [
            "matrix =  [[1, 1, 3, 3, 3, 5], [0, 1, 1, 3, 3, 3], [0, 0, 1, 1, 1, 3], [0, 0, 0, 1, 1, 1], [0, 0, 0, 0, 1, 1], [0, 0, 0, 0, 0, 1]]\n",
            "length-longest-palindrome = 5\n"
          ]
        }
      ],
      "source": [
        "def LPS(s):\n",
        "    n = len(s)\n",
        "    A = [[0] * n for i in range(n)]\n",
        "    for i in range(n):\n",
        "        A[i][i] = 1\n",
        "    for diff in range(1,n):\n",
        "        for i in range(n - diff):\n",
        "            j = i + diff\n",
        "            if s[i] != s[j]:\n",
        "                A[i][j] = max(A[i+1][j], A[i][j - 1])\n",
        "            else:\n",
        "                A[i][j] = A[i + 1][j -1] + 2\n",
        "    #print(\"identical characters\", A[i + 1][j -1] + 2)\n",
        "    print(\"matrix = \", A)\n",
        "    print(\"length-longest-palindrome =\", A[0][n-1])\n",
        "LPS(\"ABABRA\")"
      ]
    }
  ],
  "metadata": {
    "kernelspec": {
      "display_name": "Python 3 (ipykernel)",
      "language": "python",
      "name": "python3"
    },
    "language_info": {
      "codemirror_mode": {
        "name": "ipython",
        "version": 3
      },
      "file_extension": ".py",
      "mimetype": "text/x-python",
      "name": "python",
      "nbconvert_exporter": "python",
      "pygments_lexer": "ipython3",
      "version": "3.10.12"
    },
    "colab": {
      "provenance": []
    }
  },
  "nbformat": 4,
  "nbformat_minor": 5
}