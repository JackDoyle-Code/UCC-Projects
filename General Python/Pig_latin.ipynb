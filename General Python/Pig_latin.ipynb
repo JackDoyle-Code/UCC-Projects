{
 "cells": [
  {
   "cell_type": "code",
   "execution_count": 16,
   "id": "28f50dbf",
   "metadata": {},
   "outputs": [
    {
     "name": "stdout",
     "output_type": "stream",
     "text": [
      "Inglejay ellsbay, inglejay ellsbay!\n",
      "Inglejay allway ethay ayway!!\n",
      "Ohway, atwhay unfay itway isway otay ideray\n",
      "Inway away oneway orsehay openway eighslay.\n"
     ]
    }
   ],
   "source": [
    "# Author - Jack Doyle, Date - 13-11-2023, CS6501\n",
    "# Summary - the code below contains two function. The first function \"change\", converts a given word into pig latin.\n",
    "# The second function \"pig_latin\", deals with structure and formatting in order to produce the desired sentence\n",
    "# structure for the assignment\n",
    "\n",
    "# \"change\" converts the given string into its pig latin variant and returns the new pig latin variant\n",
    "def change(s): \n",
    "    vowel = [\"a\", \"e\", \"i\", \"o\", \"u\"] # creates a list of vowels\n",
    "    if s[0] in vowel:\n",
    "        new_word = s+\"way\" # if the first character in the string is a vowel it adds \"way\" to the end of the word\n",
    "    else:\n",
    "        for i in s: # for each letter in the string \"s\"\n",
    "            if i in vowel: # if the letter is a vowel - continue\n",
    "                split_word = s.partition(i) #creates a new list containing letters before vowel, the vowel, \n",
    "                # and letters after the vowel\n",
    "                new_word = split_word[1]+split_word[2]+split_word[0]+\"ay\" # creates a new string that is the pig\n",
    "                # latin of the orginal word by adding separated strings together and adding \"ay\"\n",
    "                break \n",
    "    return(new_word) # returns the new pig latin word\n",
    "\n",
    "\n",
    "# \"pig_latin\" converts a given sentence into pig latin and returns the new pig latin sentence while keeping the\n",
    "# orginal structure of the sentence\n",
    "def pig_latin(s):\n",
    "    read = s.lower() # changes all capitals to lowercase\n",
    "    lines = read.splitlines() # splits the string at all \"\\n\"\n",
    "    list1 = [] # empty list\n",
    "\n",
    "    for line in lines: \n",
    "        separate_words = line.split() # splits each separate line at all spaces           \n",
    "        changed_word = [change(word) for word in separate_words] # for each word that was created by splitting the\n",
    "        # line by spaces, it undergoes the change function previously defined. These are then added to the \n",
    "        # changed_word list\n",
    "        \n",
    "        for index, value in enumerate(changed_word): # adds a index to each word in changed_word so they can be\n",
    "            # iteratted over\n",
    "            nonalpha = \"\" # empty string\n",
    "            for letter in value:\n",
    "                if letter.isalpha() == False: # goes through each letter in each word in changed_words and checks\n",
    "                    # if the character isn't in the alphabet\n",
    "                    nonalpha += letter # adds the character to the string\n",
    "                    changed_word[index] = value.replace(letter, \"\") + nonalpha # replaces the word in changed_word \n",
    "                    # by index, with the new word moving all nonalpha charaters to the end of the word\n",
    "                else:\n",
    "                    continue\n",
    "        list1.append((\" \".join(changed_word)).capitalize()) # changes the new changed_word to string and capitalises\n",
    "        # the first letter of the string which represents a separate line. This is then added to a list\n",
    "\n",
    "    final_string = \"\\n\".join(list1) # list1 is converted to string while adding a newline between each item in list1\n",
    "    print(final_string) # returns the final string with the same formatting and captialisation as the orginal word \n",
    "# but in pig latin\n",
    "        \n",
    "pig_latin(\"\"\"Jingle bells, jingle bells!\n",
    "Jingle all the way!!\n",
    "Oh, what fun it is to ride\n",
    "In a one horse open sleigh.\"\"\")"
   ]
  }
 ],
 "metadata": {
  "kernelspec": {
   "display_name": "Python 3 (ipykernel)",
   "language": "python",
   "name": "python3"
  },
  "language_info": {
   "codemirror_mode": {
    "name": "ipython",
    "version": 3
   },
   "file_extension": ".py",
   "mimetype": "text/x-python",
   "name": "python",
   "nbconvert_exporter": "python",
   "pygments_lexer": "ipython3",
   "version": "3.10.12"
  }
 },
 "nbformat": 4,
 "nbformat_minor": 5
}
