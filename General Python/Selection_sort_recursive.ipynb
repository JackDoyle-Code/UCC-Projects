{
  "cells": [
    {
      "cell_type": "markdown",
      "id": "75fb6b9c",
      "metadata": {
        "id": "75fb6b9c"
      },
      "source": [
        "# Selection Sort Recursive"
      ]
    },
    {
      "cell_type": "code",
      "execution_count": null,
      "id": "02adf68c",
      "metadata": {
        "id": "02adf68c",
        "outputId": "171e4fcb-161f-4a2b-a14e-b5da404d0fb1"
      },
      "outputs": [
        {
          "data": {
            "text/plain": [
              "[1, 1, 2, 3, 4, 5]"
            ]
          },
          "execution_count": 1,
          "metadata": {},
          "output_type": "execute_result"
        }
      ],
      "source": [
        "def Selection_sort_recursive(lis, emp = []):\n",
        "    if len(lis) == 0:\n",
        "        return emp # base case\n",
        "    else:\n",
        "        val  = min(lis)\n",
        "        ind = lis.index(val)\n",
        "        rm = lis.pop(ind)\n",
        "        emp.append(rm)\n",
        "        # above is for readability\n",
        "        # finds the min for the list, removes it and adds it to an empty list\n",
        "        return Selection_sort_recursive(lis, emp)\n",
        "        # This is then repeated until the original list is empty\n",
        "\n",
        "M = [2,3,1,1,5,4]\n",
        "Selection_sort_recursive(M)"
      ]
    }
  ],
  "metadata": {
    "kernelspec": {
      "display_name": "Python 3 (ipykernel)",
      "language": "python",
      "name": "python3"
    },
    "language_info": {
      "codemirror_mode": {
        "name": "ipython",
        "version": 3
      },
      "file_extension": ".py",
      "mimetype": "text/x-python",
      "name": "python",
      "nbconvert_exporter": "python",
      "pygments_lexer": "ipython3",
      "version": "3.10.12"
    },
    "colab": {
      "provenance": []
    }
  },
  "nbformat": 4,
  "nbformat_minor": 5
}