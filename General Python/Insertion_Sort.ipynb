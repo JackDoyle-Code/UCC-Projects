{
  "cells": [
    {
      "cell_type": "markdown",
      "id": "0d8ff278",
      "metadata": {
        "id": "0d8ff278"
      },
      "source": [
        "# Insertion Sort"
      ]
    },
    {
      "cell_type": "code",
      "execution_count": null,
      "id": "90135351",
      "metadata": {
        "id": "90135351",
        "outputId": "660be59f-5ee2-41dc-cb7f-9aa047cbc79d"
      },
      "outputs": [
        {
          "data": {
            "text/plain": [
              "[1, 2, 4, 6]"
            ]
          },
          "execution_count": 1,
          "metadata": {},
          "output_type": "execute_result"
        }
      ],
      "source": [
        "def swap(lis, i, j):\n",
        "    lis[i], lis[j] = lis[j], lis[i]\n",
        "\n",
        "def InsertionSort(lis):\n",
        "    for i in range(1,len(lis)):\n",
        "        while (i >= 1 and (lis[i-1] > lis[i])):\n",
        "            swap(lis,i-1,i)\n",
        "            i = i-1\n",
        "    return lis\n",
        "\n",
        "InsertionSort([2, 4, 1, 6])"
      ]
    },
    {
      "cell_type": "markdown",
      "id": "7cf0f910",
      "metadata": {
        "id": "7cf0f910"
      },
      "source": [
        "# Insertion Sort (Count Comparisons)"
      ]
    },
    {
      "cell_type": "markdown",
      "id": "7fd7708c",
      "metadata": {
        "id": "7fd7708c"
      },
      "source": [
        "### Counts how many comparisons there when sorting"
      ]
    },
    {
      "cell_type": "code",
      "execution_count": null,
      "id": "947a2ce9",
      "metadata": {
        "id": "947a2ce9"
      },
      "outputs": [],
      "source": [
        "def InsertionSortCount(lis):\n",
        "    count = 0\n",
        "    listemp = lis.copy()\n",
        "    for i in range(1,len(listemp)):\n",
        "        while (i >= 1 and (listemp[i-1] > listemp[i])):\n",
        "            swap(listemp,i-1,i)\n",
        "            i = i-1\n",
        "            count += 1\n",
        "        if listemp[i-1] <= listemp[i]:\n",
        "            count += 1\n",
        "    # adding the above if statement accounts for if the while loop isn't true\n",
        "    return count\n",
        "\n",
        "InsertionSortCount([4,1,3,2])"
      ]
    },
    {
      "cell_type": "code",
      "execution_count": null,
      "id": "23885e04",
      "metadata": {
        "id": "23885e04"
      },
      "outputs": [],
      "source": []
    }
  ],
  "metadata": {
    "kernelspec": {
      "display_name": "Python 3 (ipykernel)",
      "language": "python",
      "name": "python3"
    },
    "language_info": {
      "codemirror_mode": {
        "name": "ipython",
        "version": 3
      },
      "file_extension": ".py",
      "mimetype": "text/x-python",
      "name": "python",
      "nbconvert_exporter": "python",
      "pygments_lexer": "ipython3",
      "version": "3.10.12"
    },
    "colab": {
      "provenance": []
    }
  },
  "nbformat": 4,
  "nbformat_minor": 5
}