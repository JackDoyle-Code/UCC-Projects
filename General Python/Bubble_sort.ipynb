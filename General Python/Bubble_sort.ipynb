{
  "cells": [
    {
      "cell_type": "markdown",
      "id": "51b3d196",
      "metadata": {
        "id": "51b3d196"
      },
      "source": [
        "# Bubble Sort"
      ]
    },
    {
      "cell_type": "markdown",
      "id": "2cfe4fdb",
      "metadata": {
        "id": "2cfe4fdb"
      },
      "source": [
        "### Bubble Sort Recursion"
      ]
    },
    {
      "cell_type": "code",
      "execution_count": null,
      "id": "35b977a5",
      "metadata": {
        "id": "35b977a5",
        "outputId": "060eb978-1414-444b-cb4e-28ec54a09078"
      },
      "outputs": [
        {
          "data": {
            "text/plain": [
              "[1, 2, 2, 3, 5]"
            ]
          },
          "execution_count": 4,
          "metadata": {},
          "output_type": "execute_result"
        }
      ],
      "source": [
        "def swap(lis, i, j):\n",
        "    lis[i], lis[j] = lis[j], lis[i] # swaps two numbers in the same list\n",
        "\n",
        "def BubbleSortRec(lis):\n",
        "    if len(lis) <= 1:\n",
        "        return lis                  # base case\n",
        "    for i in range(len(lis)-1):     # compares size of two numbers\n",
        "        if lis[i] <= lis[i+1]:\n",
        "            swap(lis, i, i+1)       # smallest number is passed down to the end of the list\n",
        "    val = [lis.pop(-1)]             # removes and remembers the last number in the list\n",
        "    return val + BubbleSortRec(lis) # repeats all of this and combines lists starting from the smallest number\n",
        "\n",
        "BubbleSortRec([2, 5, 3, 2, 1])"
      ]
    },
    {
      "cell_type": "markdown",
      "id": "32885934",
      "metadata": {
        "id": "32885934"
      },
      "source": [
        "### Alternative bubble sort (no recursion)"
      ]
    },
    {
      "cell_type": "code",
      "execution_count": null,
      "id": "288946ee",
      "metadata": {
        "id": "288946ee",
        "outputId": "7036ae3e-1568-4fb8-eca7-5f93e34114e7"
      },
      "outputs": [
        {
          "name": "stdout",
          "output_type": "stream",
          "text": [
            "[1, 2, 3, 5, 6]\n"
          ]
        }
      ],
      "source": [
        "def swap(list,i,j):\n",
        "    (list[i],list[j]) = (list[j],list[i]) # swaps two numbers in the same list\n",
        "\n",
        "def Bubblesort(list):\n",
        "    for i in range(len(list)-1,0,-1):\n",
        "        for j in range(i):\n",
        "            if list[j] > list[j+1]:\n",
        "                swap(list,j,j+1)\n",
        "    # j loop - moves the largest number to the end of the list\n",
        "    # i loop - shortens the list each time theres an iteration by 1\n",
        "    # j loop is repeated until the shortens down to a length of one\n",
        "    # list is now ordered\n",
        "    print(list)\n",
        "\n",
        "Bubblesort([2, 5, 6, 3, 1])"
      ]
    },
    {
      "cell_type": "markdown",
      "id": "d9710746",
      "metadata": {
        "id": "d9710746"
      },
      "source": [
        "### Bubble Comparison Count"
      ]
    },
    {
      "cell_type": "markdown",
      "id": "6f2ad875",
      "metadata": {
        "id": "6f2ad875"
      },
      "source": [
        "#### Count function can be applied to first function as well"
      ]
    },
    {
      "cell_type": "code",
      "execution_count": null,
      "id": "5e9544fe",
      "metadata": {
        "id": "5e9544fe"
      },
      "outputs": [],
      "source": [
        "def Bubblesort_comparison_count(list):\n",
        "    count = 0\n",
        "    for i in range(len(list)-1,0,-1):\n",
        "        for j in range(i):\n",
        "            count += 1\n",
        "            if list[j] > list[j+1]:\n",
        "                swap(list,j,j+1)\n",
        "    print(count)\n",
        "\n",
        "import random\n",
        "\n",
        "Bubblesort_comparison_count(random.sample(range(30),5))"
      ]
    }
  ],
  "metadata": {
    "kernelspec": {
      "display_name": "Python 3 (ipykernel)",
      "language": "python",
      "name": "python3"
    },
    "language_info": {
      "codemirror_mode": {
        "name": "ipython",
        "version": 3
      },
      "file_extension": ".py",
      "mimetype": "text/x-python",
      "name": "python",
      "nbconvert_exporter": "python",
      "pygments_lexer": "ipython3",
      "version": "3.10.12"
    },
    "colab": {
      "provenance": []
    }
  },
  "nbformat": 4,
  "nbformat_minor": 5
}