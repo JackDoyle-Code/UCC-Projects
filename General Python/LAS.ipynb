{
  "cells": [
    {
      "cell_type": "code",
      "execution_count": null,
      "id": "47e80bea",
      "metadata": {
        "id": "47e80bea",
        "outputId": "e7b35d01-48db-47b2-aa0a-61ed80adeb30"
      },
      "outputs": [
        {
          "name": "stdout",
          "output_type": "stream",
          "text": [
            "(' The length of the longest alternating substring is 6', [1, 7, 4, 9, 2, 5])\n"
          ]
        },
        {
          "data": {
            "text/plain": [
              "(' The length of the longest alternating substring is 7',\n",
              " [1, 17, 5, 10, 5, 16, 8])"
            ]
          },
          "execution_count": 20,
          "metadata": {},
          "output_type": "execute_result"
        }
      ],
      "source": [
        "def las(lis):\n",
        "    n = len(lis)\n",
        "    m = len(lis)\n",
        "    mat = [[0 for i in range(n-1)] for j in range(m-1)]\n",
        "    for i in range(n-1):\n",
        "        for j in range(m-1):\n",
        "            if i > j:\n",
        "                mat[i][j] = \"E\"\n",
        "            elif lis[j+1]-lis[i] > 0:\n",
        "                mat[i][j] = \"P\"\n",
        "            elif lis[j+1]-lis[i] < 0:\n",
        "                mat[i][j] = \"N\"\n",
        "            else:\n",
        "                mat[i][j] = \"Z\"\n",
        "\n",
        "    new = [lis[n-1]]\n",
        "    n = n-2\n",
        "    m = m-2\n",
        "    counter = 0\n",
        "    while n >= 0:\n",
        "        if n == 0:\n",
        "            if counter > 0:\n",
        "                new.append(lis[n+counter])\n",
        "            new.append(lis[n])\n",
        "            n -= 1\n",
        "        elif mat[n][m] == \"P\":\n",
        "            if mat[n-1][m-1] == \"N\":\n",
        "                new.append(lis[n+counter])\n",
        "                n -= 1\n",
        "                m -= 1\n",
        "                counter = 0\n",
        "            else:\n",
        "                n -= 1\n",
        "                counter += 1\n",
        "        elif mat[n][m] == \"N\":\n",
        "            if mat[n-1][m-1] == \"P\":\n",
        "                new.append(lis[n+counter])\n",
        "                n -= 1\n",
        "                m -= 1\n",
        "                counter = 0\n",
        "            else:\n",
        "                n -=1\n",
        "                counter += 1\n",
        "    return f\" The length of the longest alternating substring is {len(new):}\" , new[::-1]\n",
        "\n",
        "print(las([1,7,4,9,2,5]))\n",
        "las([1, 17, 5, 10, 13, 15, 10, 5, 16, 8])"
      ]
    }
  ],
  "metadata": {
    "kernelspec": {
      "display_name": "Python 3 (ipykernel)",
      "language": "python",
      "name": "python3"
    },
    "language_info": {
      "codemirror_mode": {
        "name": "ipython",
        "version": 3
      },
      "file_extension": ".py",
      "mimetype": "text/x-python",
      "name": "python",
      "nbconvert_exporter": "python",
      "pygments_lexer": "ipython3",
      "version": "3.10.12"
    },
    "colab": {
      "provenance": []
    }
  },
  "nbformat": 4,
  "nbformat_minor": 5
}